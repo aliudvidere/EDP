{
 "cells": [
  {
   "cell_type": "code",
   "execution_count": 2,
   "id": "e200bba5",
   "metadata": {},
   "outputs": [],
   "source": [
    "import matplotlib.pyplot as plt\n",
    "import numpy as np"
   ]
  },
  {
   "cell_type": "code",
   "execution_count": null,
   "id": "64c1a136",
   "metadata": {},
   "outputs": [],
   "source": [
    "def gnerate_vel_and_ac(exp, var, T, V0, numb):\n",
    "    arr = np.zeros(numb)\n",
    "    a = np.random.normal(exp, var ** 0.5, numb)\n",
    "    arr[0] = V0\n",
    "    for i in range(1, len(arr)):\n",
    "        arr[i] = arr[i - 1] + a[i - 1] * T\n",
    "    return arr, a\n",
    "def generate_x(T, X0, a, v):\n",
    "    arr = np.zeros(len(a))\n",
    "    arr[0] = X0\n",
    "    for i in range(1, len(a)):\n",
    "        arr[i] = arr[i - 1] + v[i - 1] * T + a[i - 1] * (T ** 2) / 2\n",
    "    return arr\n",
    "\n",
    "def kalman_filt(z, X0, P0, F, Q, R, H):\n",
    "    arr = np.zeros([200, 2])\n",
    "    P = np.zeros([200, 2 , 2])\n",
    "    K = np.zeros([200, 2])\n",
    "    arr[0] = X0\n",
    "    P[0] = P0\n",
    "    for i in range(1, len(X)):\n",
    "        arr[i] = np.dot(F, arr[i - 1].reshape(2, 1)).reshape(1, 2)\n",
    "        P[i] = np.dot(np.dot(F, P[i - 1]), F.transpose()) + Q\n",
    "\n",
    "        K[i] = (P[i].dot(H.reshape(2, 1))).dot((((H.reshape(1,2)).dot(P[i])).dot(H.reshape(2, 1)) + R) ** (-1)).reshape(1, 2)\n",
    "\n",
    "        arr[i] = arr[i] + K[i] * (z[i] - np.dot(H, arr[i]))\n",
    "        P[i] = (np.identity(2) - (K[i].reshape(2,1)).dot(H.reshape(1,2))).dot(P[i])\n",
    "        \n",
    "    return arr, P, K, P[len(P) - 1], K[len(K) - 1]\n",
    "\n",
    "def kalman_filt_fix_K(z, X0, P0, F, Q, R, H, K_fix):\n",
    "    arr = np.zeros([200, 2])\n",
    "    P = np.zeros([200, 2 , 2])\n",
    "    K = np.zeros([200, 2])\n",
    "    arr[0] = X0\n",
    "    P[0] = P0\n",
    "    for i in range(1, len(X)):\n",
    "        arr[i] = np.dot(F, arr[i - 1].reshape(2, 1)).reshape(1, 2)\n",
    "        P[i] = np.dot(np.dot(F, P[i - 1]), F.transpose()) + Q\n",
    "\n",
    "        K[i] = K_fix\n",
    "        arr[i] = arr[i] + K[i] * (z[i] - np.dot(H, arr[i]))\n",
    "        P[i] = (np.identity(2) - (K[i].reshape(2,1)).dot(H.reshape(1,2))).dot(P[i])\n",
    "        \n",
    "    return arr, P, K, P[len(P) - 1], K[len(K) - 1]\n",
    "        \n",
    "def extrapol(x, m, F):\n",
    "    arr = np.array(x)\n",
    "    F_pow = np.linalg.matrix_power(F, m - 1)\n",
    "    for i in range(len(x) - m + 1):\n",
    "        arr[i + m - 1] = F_pow.dot(x[i])\n",
    "    return arr\n",
    "\n",
    "def backward_exp_smooth(alp, arr):\n",
    "    dub = np.array(arr)\n",
    "    for i in range(len(arr) - 2, -1, -1):\n",
    "        dub[i] = dub[i + 1] + alp * (dub[i] - dub[i + 1])\n",
    "    return dub"
   ]
  }
 ],
 "metadata": {
  "kernelspec": {
   "display_name": "Python 3 (ipykernel)",
   "language": "python",
   "name": "python3"
  },
  "language_info": {
   "codemirror_mode": {
    "name": "ipython",
    "version": 3
   },
   "file_extension": ".py",
   "mimetype": "text/x-python",
   "name": "python",
   "nbconvert_exporter": "python",
   "pygments_lexer": "ipython3",
   "version": "3.9.12"
  }
 },
 "nbformat": 4,
 "nbformat_minor": 5
}
