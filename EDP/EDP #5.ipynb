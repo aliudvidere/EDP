{
 "cells": [
  {
   "cell_type": "markdown",
   "id": "b634d520",
   "metadata": {},
   "source": [
    "# Assigment 5\n",
    "# Tracking of a moving object which trajectory is disturbed by random acceleration \n",
    "\n",
    "## Team 6: Berman Vladimir, Dronova Maria, Bazhenov Artem, Skoltech, October, 2022"
   ]
  },
  {
   "cell_type": "markdown",
   "id": "a53af048",
   "metadata": {},
   "source": [
    "### Initialisation of libraries "
   ]
  },
  {
   "cell_type": "code",
   "execution_count": null,
   "id": "1f074179",
   "metadata": {},
   "outputs": [],
   "source": [
    "import numpy as np\n",
    "import matplotlib.pyplot as plt"
   ]
  },
  {
   "cell_type": "markdown",
   "id": "0a2a5a2c",
   "metadata": {},
   "source": [
    "### Setting functions"
   ]
  },
  {
   "cell_type": "code",
   "execution_count": 3,
   "id": "8f92936c",
   "metadata": {},
   "outputs": [],
   "source": [
    "# generating velocity vi\n",
    "def gnerate_vel_and_ac(exp, var, T, V0, numb):\n",
    "    arr = np.zeros(numb)\n",
    "    a = np.random.normal(exp, var ** 0.5, numb)\n",
    "    arr[0] = V0\n",
    "    for i in range(1, len(arr)):\n",
    "        arr[i] = arr[i - 1] + a[i - 1] * T\n",
    "    return arr, a\n",
    "\n",
    "# generating coordinate xi \n",
    "def generate_x(T, X0, a, v):\n",
    "    arr = np.zeros(len(a))\n",
    "    arr[0] = X0\n",
    "    for i in range(1, len(a)):\n",
    "        arr[i] = arr[i - 1] + v[i - 1] * T + a[i - 1] * (T ** 2) / 2\n",
    "    return arr\n",
    "\n",
    "# Kalman filter\n",
    "def kalman_filt(z, X0, P0, F, Q, R, H):\n",
    "    arr = np.zeros([200, 2])\n",
    "    P = np.zeros([200, 2 , 2])\n",
    "    K = np.zeros([200, 2])\n",
    "    arr[0] = X0\n",
    "    P[0] = P0\n",
    "    for i in range(1, len(X)):\n",
    "        arr[i] = np.dot(F, arr[i - 1].reshape(2, 1)).reshape(1, 2)\n",
    "        P[i] = np.dot(np.dot(F, P[i - 1]), F.transpose()) + Q\n",
    "\n",
    "        K[i] = (P[i].dot(H.reshape(2, 1))).dot((((H.reshape(1,2)).dot(P[i])).dot(H.reshape(2, 1)) + R) ** (-1)).reshape(1, 2)\n",
    "\n",
    "        arr[i] = arr[i] + K[i] * (z[i] - np.dot(H, arr[i]))\n",
    "        P[i] = (np.identity(2) - (K[i].reshape(2,1)).dot(H.reshape(1,2))).dot(P[i])\n",
    "        \n",
    "    return arr, P, K, P[len(P) - 1], K[len(K) - 1]\n",
    "\n",
    "# extrapolation\n",
    "def extrapol(x, m, F):\n",
    "    arr = np.array(x)\n",
    "    F_pow = np.linalg.matrix_power(F, m - 1)\n",
    "    for i in range(len(x) - m + 1):\n",
    "        arr[i + m - 1] = F_pow.dot(x[i])\n",
    "    return arr"
   ]
  },
  {
   "cell_type": "markdown",
   "id": "0ed359bd",
   "metadata": {},
   "source": [
    "### 1. Generating a true trajectory Xi of an object motion disturbed by normally distributed random acceleration"
   ]
  },
  {
   "cell_type": "code",
   "execution_count": 4,
   "id": "c215226e",
   "metadata": {},
   "outputs": [],
   "source": [
    "x0 = 5\n",
    "v0 = 1\n",
    "T = 1\n",
    "sigmaa_2 = 0.2 ** 2\n",
    "numb = 200\n",
    "v,a = gnerate_vel_and_ac(0, sigmaa_2 ** 0.5, T, v0, numb)\n",
    "x = generate_x(T, x0, a, v)"
   ]
  },
  {
   "cell_type": "markdown",
   "id": "f74d07a5",
   "metadata": {},
   "source": [
    "### 2. Generating measurements zi of the coordinate xi "
   ]
  },
  {
   "cell_type": "code",
   "execution_count": 5,
   "id": "b0a65d6d",
   "metadata": {},
   "outputs": [],
   "source": [
    "sigmaeta_2 = 20 ** 2\n",
    "eta = np.random.normal(0, sigmaeta_2 ** 0.5, 200)\n",
    "z = x + eta"
   ]
  },
  {
   "cell_type": "markdown",
   "id": "64be2b69",
   "metadata": {},
   "source": [
    "### 3. ConstructIing Kalman filter "
   ]
  },
  {
   "cell_type": "markdown",
   "id": "8a9a7ddc",
   "metadata": {},
   "source": [
    "#### Setting transition matrix F, input matrix G, observation matix H"
   ]
  },
  {
   "cell_type": "code",
   "execution_count": 6,
   "id": "fb755f16",
   "metadata": {},
   "outputs": [],
   "source": [
    "F = np.array([[1, T], [0, 1]])\n",
    "G = np.array([T ** 2 / 2, T])\n",
    "H = np.array([1, 0])"
   ]
  },
  {
   "cell_type": "markdown",
   "id": "87d9dbd6",
   "metadata": {},
   "source": [
    "#### Generating state vector"
   ]
  },
  {
   "cell_type": "code",
   "execution_count": 7,
   "id": "dee10324",
   "metadata": {},
   "outputs": [],
   "source": [
    "X = np.zeros([200, 2])\n",
    "X[0] = np.array([x[0], v[0]])\n",
    "for i in range(1, len(X)):\n",
    "    X[i] = np.dot(F, X[i - 1]) + np.dot(G, a[i - 1])"
   ]
  },
  {
   "cell_type": "markdown",
   "id": "32d899f0",
   "metadata": {},
   "source": [
    "#### Generating measurements"
   ]
  },
  {
   "cell_type": "code",
   "execution_count": 8,
   "id": "f9118fa9",
   "metadata": {},
   "outputs": [],
   "source": [
    "for i in range(len(x)):\n",
    "    z[i] = np.dot(H, X[i]) + eta[i]"
   ]
  },
  {
   "cell_type": "markdown",
   "id": "8d40c704",
   "metadata": {},
   "source": [
    "#### 4. Developing Kalman filter algorithm"
   ]
  },
  {
   "cell_type": "code",
   "execution_count": 9,
   "id": "69627c23",
   "metadata": {},
   "outputs": [],
   "source": [
    "Q = np.dot(np.dot(G, G.transpose()), sigmaa_2) # covariance matrix Q of state noise Ga\n",
    "R = sigmaeta_2 # covariance matrix R of measurements noise eta\n",
    "X0 = np.array([2, 0]) # initial filtered estimate \n",
    "P0 = np.array([[10000, 0], [0, 10000]]) # initial filtration error covariance matrix \n",
    "\n",
    "X_filt, P, K = kalman_filt(z, X0, P0, F, Q, R, H)[:3] "
   ]
  },
  {
   "cell_type": "markdown",
   "id": "156cc0c2",
   "metadata": {},
   "source": [
    "#### 5. Plotting results"
   ]
  },
  {
   "cell_type": "code",
   "execution_count": 10,
   "id": "9b466549",
   "metadata": {},
   "outputs": [
    {
     "data": {
      "text/plain": [
       "<matplotlib.legend.Legend at 0x20207ca0670>"
      ]
     },
     "execution_count": 10,
     "metadata": {},
     "output_type": "execute_result"
    },
    {
     "data": {
      "image/png": "[encoded data removed]",
      "text/plain": [
       "<Figure size 432x288 with 1 Axes>"
      ]
     },
     "metadata": {
      "needs_background": "light"
     },
     "output_type": "display_data"
    }
   ],
   "source": [
    "plt.plot(X[:,0])\n",
    "plt.plot(z)\n",
    "plt.plot(X_filt[:,0])\n",
    "plt.legend([\"1\", \"2\", \"3\"])"
   ]
  },
  {
   "cell_type": "code",
   "execution_count": 11,
   "id": "1353caf3",
   "metadata": {},
   "outputs": [
    {
     "data": {
      "text/plain": [
       "<matplotlib.legend.Legend at 0x20207da2550>"
      ]
     },
     "execution_count": 11,
     "metadata": {},
     "output_type": "execute_result"
    },
    {
     "data": {
      "image/png": "[encoded data removed]",
      "text/plain": [
       "<Figure size 432x288 with 1 Axes>"
      ]
     },
     "metadata": {
      "needs_background": "light"
     },
     "output_type": "display_data"
    }
   ],
   "source": [
    "plt.plot(X[:, 0])\n",
    "plt.plot(z)\n",
    "plt.plot(X_filt[:,0])\n",
    "plt.plot(kalman_filt(X_filt[:,0], X0, P0, F, Q, R, H)[0][:,0])\n",
    "plt.plot(kalman_filt(kalman_filt(X_filt[:,0], X0, P0, F, Q, R, H)[0][:,0], X0, P0, F, Q, R, H)[0][:,0])\n",
    "plt.plot(kalman_filt(kalman_filt(kalman_filt(X_filt[:,0], X0, P0, F, Q, R, H)[0][:,0], X0, P0, F, Q, R, H)[0][:,0], X0, P0, F, Q, R, H)[0][:,0])\n",
    "plt.legend([\"0\", \"1\", \"2\", \"3\", \"4\"])"
   ]
  },
  {
   "cell_type": "code",
   "execution_count": 15,
   "id": "ec1315d7",
   "metadata": {},
   "outputs": [
    {
     "name": "stdout",
     "output_type": "stream",
     "text": [
      "Gain stable =  0.13895150652807645\n",
      "Standard deviation of estimation error stable =  7.455239943236608\n"
     ]
    },
    {
     "data": {
      "image/png": "[encoded data removed]",
      "text/plain": [
       "<Figure size 432x288 with 1 Axes>"
      ]
     },
     "metadata": {
      "needs_background": "light"
     },
     "output_type": "display_data"
    },
    {
     "data": {
      "text/plain": [
       "[<matplotlib.lines.Line2D at 0x2020902c220>]"
      ]
     },
     "execution_count": 15,
     "metadata": {},
     "output_type": "execute_result"
    },
    {
     "data": {
      "image/png": "[encoded data removed]",
      "text/plain": [
       "<Figure size 432x288 with 1 Axes>"
      ]
     },
     "metadata": {
      "needs_background": "light"
     },
     "output_type": "display_data"
    }
   ],
   "source": [
    "# PART 6\n",
    "print(\"Gain stable = \", K[125, 0])\n",
    "print(\"Standard deviation of estimation error stable = \", P[125, 0, 0] ** 0.5)\n",
    "plt.plot(K[1:, 0])\n",
    "plt.show()\n",
    "plt.plot(P[1:, 0, 0] ** 0.5)"
   ]
  },
  {
   "cell_type": "code",
   "execution_count": 16,
   "id": "11982d22",
   "metadata": {},
   "outputs": [],
   "source": [
    "# PART 7 function extrapol added\n",
    "m = 7\n",
    "X_extrapol = extrapol(X_filt, m, F)"
   ]
  },
  {
   "cell_type": "code",
   "execution_count": 17,
   "id": "bd41fc2e",
   "metadata": {},
   "outputs": [
    {
     "data": {
      "text/plain": [
       "<matplotlib.legend.Legend at 0x2020908d100>"
      ]
     },
     "execution_count": 17,
     "metadata": {},
     "output_type": "execute_result"
    },
    {
     "data": {
      "image/png": "[encoded data removed]",
      "text/plain": [
       "<Figure size 432x288 with 1 Axes>"
      ]
     },
     "metadata": {
      "needs_background": "light"
     },
     "output_type": "display_data"
    }
   ],
   "source": [
    "plt.plot(X_filt[:, 0])\n",
    "plt.plot(X_extrapol[:, 0])\n",
    "plt.legend([\"1\", \"2\"])"
   ]
  },
  {
   "cell_type": "code",
   "execution_count": 18,
   "id": "4c5dc88a",
   "metadata": {},
   "outputs": [],
   "source": [
    "# Part 8\n",
    "err1 = np.zeros([500, 197])\n",
    "err2 = np.zeros([500, 197])\n",
    "P0 = np.array([[10000, 0], [0, 10000]])\n",
    "P_res1 = np.zeros([500, 2, 2])\n",
    "xf = np.zeros([200, 2])\n",
    "kal_filt = kalman_filt(z, X0, P0, F, Q, R, H)\n",
    "xf = kal_filt[0]\n",
    "P_res1[0] = kal_filt[3]\n",
    "for i in range(500):\n",
    "    kal_filt = kalman_filt(xf[:, 0], X0, P0, F, Q, R, H)\n",
    "    xf = kal_filt[0]\n",
    "    P_res1[i] = kal_filt[3]\n",
    "    X_extrapol = extrapol(xf, m, F)\n",
    "    err1[i] = (X[3:, 0] - xf[3:, 0]) ** 2\n",
    "    err2[i] = (X[3:, 0] - X_extrapol[3:, 0]) ** 2\n",
    "final_err11 = np.zeros(500)\n",
    "final_err12 = np.zeros(500)\n",
    "for i in range(500):\n",
    "    final_err11[i] = np.sqrt(np.mean(err1[i]))\n",
    "    final_err12[i] = np.sqrt(np.mean(err2[i]))"
   ]
  },
  {
   "cell_type": "code",
   "execution_count": 19,
   "id": "860b497f",
   "metadata": {
    "scrolled": true
   },
   "outputs": [
    {
     "data": {
      "text/plain": [
       "[<matplotlib.lines.Line2D at 0x20209110ee0>]"
      ]
     },
     "execution_count": 19,
     "metadata": {},
     "output_type": "execute_result"
    },
    {
     "data": {
      "image/png": "[encoded data removed]",
      "text/plain": [
       "<Figure size 432x288 with 1 Axes>"
      ]
     },
     "metadata": {
      "needs_background": "light"
     },
     "output_type": "display_data"
    }
   ],
   "source": [
    "plt.plot(final_err11)\n",
    "plt.plot(final_err12)"
   ]
  },
  {
   "cell_type": "code",
   "execution_count": 20,
   "id": "2f062aec",
   "metadata": {},
   "outputs": [
    {
     "name": "stdout",
     "output_type": "stream",
     "text": [
      "Standard deviation of measurement errors =  19.540265123152945\n",
      "Mean-squared error of filtered estimate =  11.93299208612732\n"
     ]
    }
   ],
   "source": [
    "# Part 9\n",
    "print(\"Standard deviation of measurement errors = \", np.std(x - z))\n",
    "print(\"Mean-squared error of filtered estimate = \", final_err11[0])"
   ]
  },
  {
   "cell_type": "code",
   "execution_count": 21,
   "id": "3b66ff71",
   "metadata": {},
   "outputs": [],
   "source": [
    "# Part 10\n",
    "err1 = np.zeros([500, 197])\n",
    "err2 = np.zeros([500, 197])\n",
    "P0 = np.array([[100, 0], [0, 100]])\n",
    "# X0 = np.array([2, 0])\n",
    "P_res2 = np.zeros([500, 2, 2])\n",
    "xf = np.zeros([200, 2])\n",
    "kal_filt = kalman_filt(z, X0, P0, F, Q, R, H)\n",
    "xf = kal_filt[0]\n",
    "P_res2[0] = kal_filt[3]\n",
    "for i in range(500):\n",
    "    kal_filt = kalman_filt(xf[:, 0], X0, P0, F, Q, R, H)\n",
    "    xf = kal_filt[0]\n",
    "    P_res2[i] = kal_filt[3]\n",
    "    X_extrapol = extrapol(xf, m, F)\n",
    "    err1[i] = (X[3:, 0] - xf[3:, 0]) ** 2\n",
    "    err2[i] = (X[3:, 0] - X_extrapol[3:, 0]) ** 2\n",
    "final_err21 = np.zeros(500)\n",
    "final_err22 = np.zeros(500)\n",
    "for i in range(500):\n",
    "    final_err21[i] = np.sqrt(np.mean(err1[i]))\n",
    "    final_err22[i] = np.sqrt(np.mean(err2[i]))"
   ]
  },
  {
   "cell_type": "code",
   "execution_count": 22,
   "id": "1833df78",
   "metadata": {},
   "outputs": [
    {
     "data": {
      "image/png": "[encoded data removed]",
      "text/plain": [
       "<Figure size 432x288 with 1 Axes>"
      ]
     },
     "metadata": {
      "needs_background": "light"
     },
     "output_type": "display_data"
    },
    {
     "data": {
      "text/plain": [
       "[<matplotlib.lines.Line2D at 0x202091fa2e0>]"
      ]
     },
     "execution_count": 22,
     "metadata": {},
     "output_type": "execute_result"
    },
    {
     "data": {
      "image/png": "[encoded data removed]",
      "text/plain": [
       "<Figure size 432x288 with 1 Axes>"
      ]
     },
     "metadata": {
      "needs_background": "light"
     },
     "output_type": "display_data"
    }
   ],
   "source": [
    "plt.plot(final_err11)\n",
    "plt.plot(final_err21)\n",
    "plt.show()\n",
    "plt.plot(final_err12)\n",
    "plt.plot(final_err22)"
   ]
  },
  {
   "cell_type": "code",
   "execution_count": 23,
   "id": "e0707605",
   "metadata": {},
   "outputs": [
    {
     "data": {
      "text/plain": [
       "[<matplotlib.lines.Line2D at 0x20209268100>]"
      ]
     },
     "execution_count": 23,
     "metadata": {},
     "output_type": "execute_result"
    },
    {
     "data": {
      "image/png": "[encoded data removed]",
      "text/plain": [
       "<Figure size 432x288 with 1 Axes>"
      ]
     },
     "metadata": {
      "needs_background": "light"
     },
     "output_type": "display_data"
    }
   ],
   "source": [
    "# Part 11\n",
    "plt.plot(final_err11)\n",
    "plt.plot(P_res1[:, 0, 0])"
   ]
  },
  {
   "cell_type": "code",
   "execution_count": 25,
   "id": "e27a4c69",
   "metadata": {},
   "outputs": [
    {
     "ename": "ValueError",
     "evalue": "too many values to unpack (expected 3)",
     "output_type": "error",
     "traceback": [
      "\u001b[1;31m---------------------------------------------------------------------------\u001b[0m",
      "\u001b[1;31mValueError\u001b[0m                                Traceback (most recent call last)",
      "Input \u001b[1;32mIn [25]\u001b[0m, in \u001b[0;36m<cell line: 13>\u001b[1;34m()\u001b[0m\n\u001b[0;32m     11\u001b[0m P_res \u001b[38;5;241m=\u001b[39m np\u001b[38;5;241m.\u001b[39mzeros([\u001b[38;5;241m500\u001b[39m, \u001b[38;5;241m2\u001b[39m, \u001b[38;5;241m2\u001b[39m])\n\u001b[0;32m     12\u001b[0m K_res \u001b[38;5;241m=\u001b[39m np\u001b[38;5;241m.\u001b[39mzeros([\u001b[38;5;241m500\u001b[39m, \u001b[38;5;241m2\u001b[39m])\n\u001b[1;32m---> 13\u001b[0m xf, P_res[\u001b[38;5;241m0\u001b[39m], K_res[\u001b[38;5;241m0\u001b[39m] \u001b[38;5;241m=\u001b[39m kalman_filt(x, X[\u001b[38;5;241m0\u001b[39m], P0, F, Q, R, H)\n\u001b[0;32m     14\u001b[0m \u001b[38;5;28;01mfor\u001b[39;00m i \u001b[38;5;129;01min\u001b[39;00m \u001b[38;5;28mrange\u001b[39m(\u001b[38;5;241m500\u001b[39m):\n\u001b[0;32m     15\u001b[0m     xf, P_res[i], K_res[i] \u001b[38;5;241m=\u001b[39m kalman_filt(xf[:, \u001b[38;5;241m0\u001b[39m], X[\u001b[38;5;241m0\u001b[39m], P0, F, Q, R, H)\n",
      "\u001b[1;31mValueError\u001b[0m: too many values to unpack (expected 3)"
     ]
    }
   ],
   "source": [
    "# Part 12\n",
    "err = np.zeros([500, 197])\n",
    "v,a = gnerate_vel_and_ac(0, 0, T, v0, numb)\n",
    "x = generate_x(T, x0, a, v)\n",
    "Q = np.dot(np.dot(G, G.transpose()), 0)\n",
    "P0 = np.array([[0, 0], [0, 0]])\n",
    "X = np.zeros([200, 2])\n",
    "X[0] = np.array([x[0], v[0]])\n",
    "for i in range(1, len(X)):\n",
    "    X[i] = np.dot(F, X[i - 1]) + np.dot(G, a[i - 1])\n",
    "P_res = np.zeros([500, 2, 2])\n",
    "K_res = np.zeros([500, 2])\n",
    "xf, P_res[0], K_res[0] = kalman_filt(x, X[0], P0, F, Q, R, H)\n",
    "for i in range(500):\n",
    "    xf, P_res[i], K_res[i] = kalman_filt(xf[:, 0], X[0], P0, F, Q, R, H)\n",
    "    X_extrapol = extrapol(xf, m, F)\n",
    "    err[i] = (xf[3:, 0] - X_extrapol[3:, 0]) ** 2\n",
    "#     plt.plot(xf[:, 0])\n",
    "#     plt.show()\n",
    "final_err3 = np.zeros(500)\n",
    "for i in range(500):\n",
    "    final_err3[i] = np.sqrt(np.mean(err[i]))"
   ]
  },
  {
   "cell_type": "code",
   "execution_count": null,
   "id": "b49a9ae4",
   "metadata": {},
   "outputs": [],
   "source": [
    "plt.plot(X[:,0])\n",
    "plt.plot(xf[:, 0])"
   ]
  },
  {
   "cell_type": "code",
   "execution_count": 133,
   "id": "5a9ef2fe",
   "metadata": {},
   "outputs": [
    {
     "data": {
      "text/plain": [
       "[<matplotlib.lines.Line2D at 0x7fedb49b2d30>]"
      ]
     },
     "execution_count": 133,
     "metadata": {},
     "output_type": "execute_result"
    },
    {
     "data": {
      "image/png": "[encoded data removed]",
      "text/plain": [
       "<Figure size 432x288 with 1 Axes>"
      ]
     },
     "metadata": {
      "needs_background": "light"
     },
     "output_type": "display_data"
    }
   ],
   "source": [
    "plt.plot(final_err3)\n",
    "plt.plot(P_res[:, 0, 0] ** 0.5)"
   ]
  },
  {
   "cell_type": "code",
   "execution_count": 134,
   "id": "66b819ce",
   "metadata": {},
   "outputs": [
    {
     "data": {
      "text/plain": [
       "[<matplotlib.lines.Line2D at 0x7fedb4b46550>]"
      ]
     },
     "execution_count": 134,
     "metadata": {},
     "output_type": "execute_result"
    },
    {
     "data": {
      "image/png": "[encoded data removed]",
      "text/plain": [
       "<Figure size 432x288 with 1 Axes>"
      ]
     },
     "metadata": {
      "needs_background": "light"
     },
     "output_type": "display_data"
    }
   ],
   "source": [
    "plt.plot(K_res[:, 0])"
   ]
  },
  {
   "cell_type": "code",
   "execution_count": 126,
   "id": "6e754db3",
   "metadata": {},
   "outputs": [
    {
     "data": {
      "text/plain": [
       "0.0"
      ]
     },
     "execution_count": 126,
     "metadata": {},
     "output_type": "execute_result"
    }
   ],
   "source": [
    "err = np.zeros([500, 197])\n",
    "v,a = gnerate_vel_and_ac(0, simaa_2, T, v0, numb)\n",
    "x = generate_x(T, x0, a, v)\n",
    "Q = np.dot(np.dot(G, G.transpose()), 0)\n",
    "P0 = np.array([[0, 0], [0, 0]])\n",
    "X = np.zeros([200, 2])\n",
    "X[0] = np.array([x[0], v[0]])\n",
    "for i in range(1, len(X)):\n",
    "    X[i] = np.dot(F, X[i - 1]) + np.dot(G, a[i - 1])\n",
    "P_res = np.zeros([500, 2, 2])\n",
    "K_res = np.zeros([500, 2])\n",
    "xf, P_res[0], K_res[0] = kalman_filt(x, X[0], P0, F, Q, R, H)\n",
    "for i in range(500):\n",
    "    xf, P_res[i], K_res[i] = kalman_filt(xf[:, 0], X[0], P0, F, Q, R, H)\n",
    "    X_extrapol = extrapol(xf, m, F)\n",
    "    err[i] = (xf[3:, 0] - X_extrapol[3:, 0]) ** 2\n",
    "#     plt.plot(xf[:, 0])\n",
    "#     plt.show()\n",
    "final_err3 = np.zeros(500)\n",
    "for i in range(500):\n",
    "    final_err3[i] = np.sqrt(np.mean(err[i]))"
   ]
  },
  {
   "cell_type": "code",
   "execution_count": 127,
   "id": "a7b0ba71",
   "metadata": {},
   "outputs": [
    {
     "data": {
      "text/plain": [
       "array([[0.        , 0.        ],\n",
       "       [0.9803922 , 0.49019733],\n",
       "       [0.93633024, 0.84269815],\n",
       "       [0.80819452, 0.46696713],\n",
       "       [0.68723322, 0.28840503],\n",
       "       [0.59239726, 0.19472444],\n",
       "       [0.51883084, 0.14009215],\n",
       "       [0.46085175, 0.10559457],\n",
       "       [0.41426167, 0.08247236],\n",
       "       [0.37614062, 0.06624844],\n",
       "       [0.34445421, 0.05444792],\n",
       "       [0.31776085, 0.04561421],\n",
       "       [0.29501811, 0.03884528],\n",
       "       [0.2754569 , 0.03355848],\n",
       "       [0.25849909, 0.02936391],\n",
       "       [0.24370264, 0.02599261],\n",
       "       [0.23072417, 0.02325414],\n",
       "       [0.21929315, 0.02101054],\n",
       "       [0.20919351, 0.01915979],\n",
       "       [0.20025049, 0.01762505],\n",
       "       [0.19232097, 0.01634746],\n",
       "       [0.18528627, 0.01528124],\n",
       "       [0.17904682, 0.01439027],\n",
       "       [0.17351794, 0.01364566],\n",
       "       [0.16862677, 0.01302397],\n",
       "       [0.16430977, 0.01250602],\n",
       "       [0.16051082, 0.01207588],\n",
       "       [0.15717978, 0.01172021],\n",
       "       [0.15427131, 0.01142774],\n",
       "       [0.15174405, 0.01118885],\n",
       "       [0.14955995, 0.01099528],\n",
       "       [0.14768377, 0.01083994],\n",
       "       [0.14608279, 0.01071666],\n",
       "       [0.14472654, 0.01062013],\n",
       "       [0.14358668, 0.01054573],\n",
       "       [0.14263691, 0.01048947],\n",
       "       [0.14185287, 0.01044792],\n",
       "       [0.1412122 , 0.01041814],\n",
       "       [0.14069445, 0.01039765],\n",
       "       [0.14028107, 0.01038433],\n",
       "       [0.13995541, 0.01037645],\n",
       "       [0.13970264, 0.01037254],\n",
       "       [0.1395097 , 0.01037146],\n",
       "       [0.13936521, 0.01037226],\n",
       "       [0.13925936, 0.01037423],\n",
       "       [0.13918381, 0.0103768 ],\n",
       "       [0.13913156, 0.01037956],\n",
       "       [0.13909683, 0.01038223],\n",
       "       [0.1390749 , 0.01038462],\n",
       "       [0.13906199, 0.01038661],\n",
       "       [0.13905513, 0.01038813],\n",
       "       [0.13905206, 0.01038919],\n",
       "       [0.13905108, 0.0103898 ],\n",
       "       [0.13905097, 0.01038999],\n",
       "       [0.13905089, 0.01038983],\n",
       "       [0.1390503 , 0.01038936],\n",
       "       [0.1390489 , 0.01038866],\n",
       "       [0.13904655, 0.01038777],\n",
       "       [0.13904325, 0.01038677],\n",
       "       [0.13903909, 0.01038568],\n",
       "       [0.13903419, 0.01038457],\n",
       "       [0.13902872, 0.01038346],\n",
       "       [0.13902284, 0.01038238],\n",
       "       [0.13901674, 0.01038135],\n",
       "       [0.13901056, 0.01038038],\n",
       "       [0.13900444, 0.0103795 ],\n",
       "       [0.1389985 , 0.0103787 ],\n",
       "       [0.13899284, 0.01037799],\n",
       "       [0.13898752, 0.01037737],\n",
       "       [0.13898259, 0.01037683],\n",
       "       [0.1389781 , 0.01037636],\n",
       "       [0.13897404, 0.01037597],\n",
       "       [0.13897042, 0.01037565],\n",
       "       [0.13896723, 0.01037538],\n",
       "       [0.13896446, 0.01037516],\n",
       "       [0.13896207, 0.01037499],\n",
       "       [0.13896003, 0.01037485],\n",
       "       [0.13895831, 0.01037475],\n",
       "       [0.13895688, 0.01037468],\n",
       "       [0.13895571, 0.01037462],\n",
       "       [0.13895475, 0.01037458],\n",
       "       [0.13895399, 0.01037456],\n",
       "       [0.13895338, 0.01037454],\n",
       "       [0.13895291, 0.01037454],\n",
       "       [0.13895255, 0.01037453],\n",
       "       [0.13895228, 0.01037453],\n",
       "       [0.13895208, 0.01037454],\n",
       "       [0.13895194, 0.01037454],\n",
       "       [0.13895184, 0.01037455],\n",
       "       [0.13895178, 0.01037455],\n",
       "       [0.13895173, 0.01037456],\n",
       "       [0.13895171, 0.01037456],\n",
       "       [0.1389517 , 0.01037456],\n",
       "       [0.13895169, 0.01037457],\n",
       "       [0.13895169, 0.01037457],\n",
       "       [0.13895169, 0.01037457],\n",
       "       [0.13895169, 0.01037457],\n",
       "       [0.13895169, 0.01037457],\n",
       "       [0.13895168, 0.01037457],\n",
       "       [0.13895168, 0.01037456],\n",
       "       [0.13895167, 0.01037456],\n",
       "       [0.13895167, 0.01037456],\n",
       "       [0.13895166, 0.01037456],\n",
       "       [0.13895165, 0.01037456],\n",
       "       [0.13895164, 0.01037455],\n",
       "       [0.13895163, 0.01037455],\n",
       "       [0.13895161, 0.01037455],\n",
       "       [0.1389516 , 0.01037455],\n",
       "       [0.13895159, 0.01037455],\n",
       "       [0.13895158, 0.01037455],\n",
       "       [0.13895157, 0.01037454],\n",
       "       [0.13895156, 0.01037454],\n",
       "       [0.13895155, 0.01037454],\n",
       "       [0.13895155, 0.01037454],\n",
       "       [0.13895154, 0.01037454],\n",
       "       [0.13895153, 0.01037454],\n",
       "       [0.13895153, 0.01037454],\n",
       "       [0.13895152, 0.01037454],\n",
       "       [0.13895152, 0.01037454],\n",
       "       [0.13895152, 0.01037454],\n",
       "       [0.13895151, 0.01037454],\n",
       "       [0.13895151, 0.01037454],\n",
       "       [0.13895151, 0.01037454],\n",
       "       [0.13895151, 0.01037454],\n",
       "       [0.13895151, 0.01037454],\n",
       "       [0.13895151, 0.01037454],\n",
       "       [0.13895151, 0.01037454],\n",
       "       [0.13895151, 0.01037454],\n",
       "       [0.1389515 , 0.01037454],\n",
       "       [0.1389515 , 0.01037454],\n",
       "       [0.1389515 , 0.01037454],\n",
       "       [0.1389515 , 0.01037454],\n",
       "       [0.1389515 , 0.01037454],\n",
       "       [0.1389515 , 0.01037454],\n",
       "       [0.1389515 , 0.01037454],\n",
       "       [0.1389515 , 0.01037454],\n",
       "       [0.1389515 , 0.01037454],\n",
       "       [0.1389515 , 0.01037454],\n",
       "       [0.1389515 , 0.01037454],\n",
       "       [0.1389515 , 0.01037454],\n",
       "       [0.1389515 , 0.01037454],\n",
       "       [0.1389515 , 0.01037454],\n",
       "       [0.1389515 , 0.01037454],\n",
       "       [0.1389515 , 0.01037454],\n",
       "       [0.1389515 , 0.01037454],\n",
       "       [0.1389515 , 0.01037454],\n",
       "       [0.1389515 , 0.01037454],\n",
       "       [0.1389515 , 0.01037454],\n",
       "       [0.1389515 , 0.01037454],\n",
       "       [0.1389515 , 0.01037454],\n",
       "       [0.1389515 , 0.01037454],\n",
       "       [0.1389515 , 0.01037454],\n",
       "       [0.1389515 , 0.01037454],\n",
       "       [0.1389515 , 0.01037454],\n",
       "       [0.1389515 , 0.01037454],\n",
       "       [0.1389515 , 0.01037454],\n",
       "       [0.1389515 , 0.01037454],\n",
       "       [0.1389515 , 0.01037454],\n",
       "       [0.1389515 , 0.01037454],\n",
       "       [0.1389515 , 0.01037454],\n",
       "       [0.1389515 , 0.01037454],\n",
       "       [0.1389515 , 0.01037454],\n",
       "       [0.1389515 , 0.01037454],\n",
       "       [0.1389515 , 0.01037454],\n",
       "       [0.1389515 , 0.01037454],\n",
       "       [0.1389515 , 0.01037454],\n",
       "       [0.1389515 , 0.01037454],\n",
       "       [0.1389515 , 0.01037454],\n",
       "       [0.1389515 , 0.01037454],\n",
       "       [0.1389515 , 0.01037454],\n",
       "       [0.1389515 , 0.01037454],\n",
       "       [0.1389515 , 0.01037454],\n",
       "       [0.1389515 , 0.01037454],\n",
       "       [0.1389515 , 0.01037454],\n",
       "       [0.1389515 , 0.01037454],\n",
       "       [0.1389515 , 0.01037454],\n",
       "       [0.1389515 , 0.01037454],\n",
       "       [0.1389515 , 0.01037454],\n",
       "       [0.1389515 , 0.01037454],\n",
       "       [0.1389515 , 0.01037454],\n",
       "       [0.1389515 , 0.01037454],\n",
       "       [0.1389515 , 0.01037454],\n",
       "       [0.1389515 , 0.01037454],\n",
       "       [0.1389515 , 0.01037454],\n",
       "       [0.1389515 , 0.01037454],\n",
       "       [0.1389515 , 0.01037454],\n",
       "       [0.1389515 , 0.01037454],\n",
       "       [0.1389515 , 0.01037454],\n",
       "       [0.1389515 , 0.01037454],\n",
       "       [0.1389515 , 0.01037454],\n",
       "       [0.1389515 , 0.01037454],\n",
       "       [0.1389515 , 0.01037454],\n",
       "       [0.1389515 , 0.01037454],\n",
       "       [0.1389515 , 0.01037454],\n",
       "       [0.1389515 , 0.01037454],\n",
       "       [0.1389515 , 0.01037454],\n",
       "       [0.1389515 , 0.01037454],\n",
       "       [0.1389515 , 0.01037454],\n",
       "       [0.1389515 , 0.01037454],\n",
       "       [0.1389515 , 0.01037454]])"
      ]
     },
     "execution_count": 127,
     "metadata": {},
     "output_type": "execute_result"
    }
   ],
   "source": [
    "K"
   ]
  },
  {
   "cell_type": "code",
   "execution_count": null,
   "id": "78db4f73",
   "metadata": {},
   "outputs": [],
   "source": []
  }
 ],
 "metadata": {
  "kernelspec": {
   "display_name": "Python 3 (ipykernel)",
   "language": "python",
   "name": "python3"
  },
  "language_info": {
   "codemirror_mode": {
    "name": "ipython",
    "version": 3
   },
   "file_extension": ".py",
   "mimetype": "text/x-python",
   "name": "python",
   "nbconvert_exporter": "python",
   "pygments_lexer": "ipython3",
   "version": "3.9.12"
  }
 },
 "nbformat": 4,
 "nbformat_minor": 5
}
