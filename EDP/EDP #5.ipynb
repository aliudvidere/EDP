{
 "cells": [
  {
   "cell_type": "code",
   "execution_count": 112,
   "id": "c39aa8a0",
   "metadata": {},
   "outputs": [],
   "source": [
    "# Assigment 5\n",
    "# \n",
    "\n",
    "# Initialisation of libraries \n",
    "import numpy as np\n",
    "import matplotlib.pyplot as plt"
   ]
  },
  {
   "cell_type": "code",
   "execution_count": 113,
   "id": "8f92936c",
   "metadata": {},
   "outputs": [],
   "source": [
    "def gnerate_vel_and_ac(exp, var, T, V0, numb):\n",
    "    arr = np.zeros(numb)\n",
    "    a = np.random.normal(exp, var ** 0.5, numb)\n",
    "    arr[0] = V0\n",
    "    for i in range(1, len(arr)):\n",
    "        arr[i] = arr[i - 1] + a[i - 1] * T\n",
    "    return arr, a\n",
    "def generate_x(T, X0, a, v):\n",
    "    arr = np.zeros(len(a))\n",
    "    arr[0] = X0\n",
    "    for i in range(1, len(a)):\n",
    "        arr[i] = arr[i - 1] + v[i - 1] * T + a[i - 1] * (T ** 2) / 2\n",
    "    return arr\n",
    "def kalman_filt(z, X0, P0, F, Q, R, H):\n",
    "    \n",
    "    arr = np.zeros([200, 2])\n",
    "    P = np.zeros([200, 2 , 2])\n",
    "    K = np.zeros([200, 2])\n",
    "    arr[0] = X0\n",
    "    P[0] = P0\n",
    "    \n",
    "    for i in range(1, len(X)):\n",
    "        arr[i] = np.dot(F, arr[i - 1].reshape(2, 1)).reshape(1, 2)\n",
    "        P[i] = np.dot(np.dot(F, P[i - 1]), F.transpose()) + Q\n",
    "\n",
    "        K[i] = (P[i].dot(H.reshape(2, 1))).dot((((H.reshape(1,2)).dot(P[i])).dot(H.reshape(2, 1)) + R) ** (-1)).reshape(1, 2)\n",
    "\n",
    "        arr[i] = arr[i] + K[i] * (z[i] - np.dot(H, arr[i]))\n",
    "        P[i] = (np.identity(2) - (K[i].reshape(2,1)).dot(H.reshape(1,2))).dot(P[i])\n",
    "        \n",
    "    return arr, P, K\n",
    "\n",
    "def kalman_filt_x(z, X0, P0, F, Q, R, H):\n",
    "    \n",
    "    arr = np.zeros([200, 2])\n",
    "    P = np.zeros([200, 2 , 2])\n",
    "    K = np.zeros([200, 2])\n",
    "    arr[0] = X0\n",
    "    P[0] = P0\n",
    "    \n",
    "    for i in range(1, len(X)):\n",
    "        arr[i] = np.dot(F, arr[i - 1].reshape(2, 1)).reshape(1, 2)\n",
    "        P[i] = np.dot(np.dot(F, P[i - 1]), F.transpose()) + Q\n",
    "\n",
    "        K[i] = (P[i].dot(H.reshape(2, 1))).dot((((H.reshape(1,2)).dot(P[i])).dot(H.reshape(2, 1)) + R) ** (-1)).reshape(1, 2)\n",
    "\n",
    "        arr[i] = arr[i] + K[i] * (z[i] - np.dot(H, arr[i]))\n",
    "        P[i] = (np.identity(2) - (K[i].reshape(2,1)).dot(H.reshape(1,2))).dot(P[i])\n",
    "        \n",
    "    return arr[:,0]\n",
    "def extrapol(x, m, F):\n",
    "    return (np.linalg.matrix_power(F, m)).dot(x)\n",
    "        "
   ]
  },
  {
   "cell_type": "code",
   "execution_count": 114,
   "id": "c215226e",
   "metadata": {},
   "outputs": [],
   "source": [
    "# PART 1\n",
    "x0 = 5\n",
    "v0 = 1\n",
    "T = 1\n",
    "sigmaa_2 = 0.2 ** 2\n",
    "numb = 200\n",
    "v,a = gnerate_vel_and_ac(0, sigmaa_2 ** 0.5, T, v0, numb)\n",
    "x = generate_x(T, x0, a, v)"
   ]
  },
  {
   "cell_type": "code",
   "execution_count": 115,
   "id": "b0a65d6d",
   "metadata": {},
   "outputs": [],
   "source": [
    "sigmaeta_2 = 20 ** 2\n",
    "eta = np.random.normal(0, sigmaeta_2 ** 0.5, 200)\n",
    "z = x + eta"
   ]
  },
  {
   "cell_type": "code",
   "execution_count": 116,
   "id": "fb755f16",
   "metadata": {},
   "outputs": [],
   "source": [
    "F = np.array([[1, T], [0, 1]])\n",
    "G = np.array([T ** 2 / 2, T])\n",
    "H = np.array([1, 0])"
   ]
  },
  {
   "cell_type": "code",
   "execution_count": 117,
   "id": "dee10324",
   "metadata": {},
   "outputs": [],
   "source": [
    "X = np.zeros([200, 2])\n",
    "X[0] = np.array([x[0], v[0]])\n",
    "for i in range(1, len(X)):\n",
    "    X[i] = np.dot(F, X[i - 1]) + np.dot(G, a[i - 1])"
   ]
  },
  {
   "cell_type": "code",
   "execution_count": null,
   "id": "8e7d4337",
   "metadata": {},
   "outputs": [],
   "source": []
  },
  {
   "cell_type": "code",
   "execution_count": 118,
   "id": "f9118fa9",
   "metadata": {},
   "outputs": [],
   "source": [
    "for i in range(len(x)):\n",
    "    z[i] = np.dot(H, X[i]) + eta[i]"
   ]
  },
  {
   "cell_type": "code",
   "execution_count": 119,
   "id": "69627c23",
   "metadata": {},
   "outputs": [
    {
     "name": "stderr",
     "output_type": "stream",
     "text": [
      "/var/folders/9y/cbn__xb93h3710lq08dsvk9r0000gn/T/ipykernel_7992/3218482949.py:26: RuntimeWarning: invalid value encountered in reciprocal\n",
      "  K[i] = (P[i].dot(H.reshape(2, 1))).dot((((H.reshape(1,2)).dot(P[i])).dot(H.reshape(2, 1)) + R) ** (-1)).reshape(1, 2)\n"
     ]
    }
   ],
   "source": [
    "# X_pred = np.zeros([200, 2])\n",
    "# X_pred[0] = np.array([2, 0])\n",
    "# P_pred = np.zeros([200, 2, 2])\n",
    "Q = np.dot(np.dot(G, G.transpose()), sigmaa_2)\n",
    "R = sigmaeta_2\n",
    "X0 = np.array([2, 0])\n",
    "P0 = np.array([[10000, 0], [0, 10000]])\n",
    "\n",
    "X_filt, P, K = kalman_filt(z, X0, P0, F, Q, R, H)\n",
    "# X_filt = np.zeros([200, 2])\n",
    "# P = np.zeros([200, 2 , 2])\n",
    "# K = np.zeros([200, 2])\n",
    "\n",
    "# X_filt[0] = np.array([2, 0])\n",
    "\n",
    "\n",
    "# P[0] = np.array([[10000, 0], [0, 10000]])\n",
    "\n",
    "# for i in range(1, len(X)):\n",
    "#     X_filt[i] = np.dot(F, X_filt[i - 1].reshape(2, 1)).reshape(1, 2)\n",
    "#     P[i] = np.dot(np.dot(F, P[i - 1]), F.transpose()) + Q\n",
    "    \n",
    "#     K[i] = (P[i].dot(H.reshape(2, 1))).dot((((H.reshape(1,2)).dot(P[i])).dot(H.reshape(2, 1)) + R) ** (-1)).reshape(1, 2)\n",
    "    \n",
    "#     X_filt[i] = X_filt[i] + K[i] * (z[i] - np.dot(H, X_filt[i]))\n",
    "#     P[i] = (np.identity(2) - (K[i].reshape(2,1)).dot(H.reshape(1,2))).dot(P[i])\n"
   ]
  },
  {
   "cell_type": "code",
   "execution_count": 120,
   "id": "9b466549",
   "metadata": {},
   "outputs": [
    {
     "data": {
      "text/plain": [
       "[<matplotlib.lines.Line2D at 0x7ff0c8a41f10>]"
      ]
     },
     "execution_count": 120,
     "metadata": {},
     "output_type": "execute_result"
    },
    {
     "data": {
      "image/png": "[encoded data removed]",
      "text/plain": [
       "<Figure size 432x288 with 1 Axes>"
      ]
     },
     "metadata": {
      "needs_background": "light"
     },
     "output_type": "display_data"
    }
   ],
   "source": [
    "plt.plot(X[:,0])\n",
    "plt.plot(z)\n",
    "plt.plot(X_filt[:,0])"
   ]
  },
  {
   "cell_type": "code",
   "execution_count": 121,
   "id": "4436a257",
   "metadata": {},
   "outputs": [
    {
     "name": "stderr",
     "output_type": "stream",
     "text": [
      "/var/folders/9y/cbn__xb93h3710lq08dsvk9r0000gn/T/ipykernel_7992/3218482949.py:45: RuntimeWarning: invalid value encountered in reciprocal\n",
      "  K[i] = (P[i].dot(H.reshape(2, 1))).dot((((H.reshape(1,2)).dot(P[i])).dot(H.reshape(2, 1)) + R) ** (-1)).reshape(1, 2)\n",
      "/var/folders/9y/cbn__xb93h3710lq08dsvk9r0000gn/T/ipykernel_7992/3218482949.py:45: RuntimeWarning: invalid value encountered in reciprocal\n",
      "  K[i] = (P[i].dot(H.reshape(2, 1))).dot((((H.reshape(1,2)).dot(P[i])).dot(H.reshape(2, 1)) + R) ** (-1)).reshape(1, 2)\n",
      "/var/folders/9y/cbn__xb93h3710lq08dsvk9r0000gn/T/ipykernel_7992/3218482949.py:45: RuntimeWarning: invalid value encountered in reciprocal\n",
      "  K[i] = (P[i].dot(H.reshape(2, 1))).dot((((H.reshape(1,2)).dot(P[i])).dot(H.reshape(2, 1)) + R) ** (-1)).reshape(1, 2)\n"
     ]
    },
    {
     "data": {
      "text/plain": [
       "<matplotlib.legend.Legend at 0x7ff0c8b38fd0>"
      ]
     },
     "execution_count": 121,
     "metadata": {},
     "output_type": "execute_result"
    },
    {
     "data": {
      "image/png": "[encoded data removed]",
      "text/plain": [
       "<Figure size 432x288 with 1 Axes>"
      ]
     },
     "metadata": {
      "needs_background": "light"
     },
     "output_type": "display_data"
    }
   ],
   "source": [
    "plt.plot(X_filt[:,0])\n",
    "plt.plot(kalman_filt_x(X_filt, X0, P0, F, Q, R, H))\n",
    "plt.plot(kalman_filt_x(kalman_filt_x(X_filt, X0, P0, F, Q, R, H), X0, P0, F, Q, R, H))\n",
    "plt.plot(kalman_filt_x(kalman_filt_x(kalman_filt_x(X_filt, X0, P0, F, Q, R, H), X0, P0, F, Q, R, H), X0, P0, F, Q, R, H))\n",
    "plt.legend([\"1\", \"2\", \"3\", \"4\"])"
   ]
  },
  {
   "cell_type": "code",
   "execution_count": 122,
   "id": "88719894",
   "metadata": {},
   "outputs": [
    {
     "data": {
      "text/plain": [
       "0.13895150388783034"
      ]
     },
     "execution_count": 122,
     "metadata": {},
     "output_type": "execute_result"
    },
    {
     "data": {
      "image/png": "[encoded data removed]",
      "text/plain": [
       "<Figure size 432x288 with 1 Axes>"
      ]
     },
     "metadata": {
      "needs_background": "light"
     },
     "output_type": "display_data"
    }
   ],
   "source": [
    "plt.plot(K[1:, 0])\n",
    "min(K[1:, 0])"
   ]
  },
  {
   "cell_type": "code",
   "execution_count": 123,
   "id": "39e45006",
   "metadata": {},
   "outputs": [
    {
     "data": {
      "text/plain": [
       "55.580601555132134"
      ]
     },
     "execution_count": 123,
     "metadata": {},
     "output_type": "execute_result"
    },
    {
     "data": {
      "image/png": "[encoded data removed]",
      "text/plain": [
       "<Figure size 432x288 with 1 Axes>"
      ]
     },
     "metadata": {
      "needs_background": "light"
     },
     "output_type": "display_data"
    }
   ],
   "source": [
    "plt.plot(P[:,0,0])\n",
    "min(P[:,0,0])"
   ]
  },
  {
   "cell_type": "code",
   "execution_count": 167,
   "id": "925681e0",
   "metadata": {},
   "outputs": [],
   "source": [
    "m = 7\n",
    "X_extrapol = np.zeros([200, 2])\n",
    "for i in range(m - 1,len(X_filt)):\n",
    "    X_extrapol[i] = extrapol(X_filt[:,:][i - m + 1], m, F)"
   ]
  },
  {
   "cell_type": "code",
   "execution_count": 168,
   "id": "2ff7ef6c",
   "metadata": {},
   "outputs": [
    {
     "data": {
      "text/plain": [
       "[<matplotlib.lines.Line2D at 0x7ff0c8c69d60>]"
      ]
     },
     "execution_count": 168,
     "metadata": {},
     "output_type": "execute_result"
    },
    {
     "data": {
      "image/png": "[encoded data removed]",
      "text/plain": [
       "<Figure size 432x288 with 1 Axes>"
      ]
     },
     "metadata": {
      "needs_background": "light"
     },
     "output_type": "display_data"
    }
   ],
   "source": [
    "plt.plot(X_filt[:, 0])\n",
    "plt.plot(X_extrapol[:, 0])"
   ]
  },
  {
   "cell_type": "code",
   "execution_count": 170,
   "id": "26bc58d5",
   "metadata": {},
   "outputs": [
    {
     "name": "stderr",
     "output_type": "stream",
     "text": [
      "/var/folders/9y/cbn__xb93h3710lq08dsvk9r0000gn/T/ipykernel_7992/3218482949.py:45: RuntimeWarning: invalid value encountered in reciprocal\n",
      "  K[i] = (P[i].dot(H.reshape(2, 1))).dot((((H.reshape(1,2)).dot(P[i])).dot(H.reshape(2, 1)) + R) ** (-1)).reshape(1, 2)\n"
     ]
    },
    {
     "ename": "IndexError",
     "evalue": "too many indices for array: array is 1-dimensional, but 2 were indexed",
     "output_type": "error",
     "traceback": [
      "\u001b[0;31m---------------------------------------------------------------------------\u001b[0m",
      "\u001b[0;31mIndexError\u001b[0m                                Traceback (most recent call last)",
      "Input \u001b[0;32mIn [170]\u001b[0m, in \u001b[0;36m<cell line: 3>\u001b[0;34m()\u001b[0m\n\u001b[1;32m      6\u001b[0m \u001b[38;5;28;01mfor\u001b[39;00m i \u001b[38;5;129;01min\u001b[39;00m \u001b[38;5;28mrange\u001b[39m(m \u001b[38;5;241m-\u001b[39m \u001b[38;5;241m1\u001b[39m,\u001b[38;5;28mlen\u001b[39m(X_filt)):\n\u001b[1;32m      7\u001b[0m     X_extrapol[i] \u001b[38;5;241m=\u001b[39m extrapol(X_filt[:,:][i \u001b[38;5;241m-\u001b[39m m \u001b[38;5;241m+\u001b[39m \u001b[38;5;241m1\u001b[39m], m, F)\n\u001b[0;32m----> 8\u001b[0m err[i] \u001b[38;5;241m=\u001b[39m np\u001b[38;5;241m.\u001b[39mstd(\u001b[43mxf\u001b[49m\u001b[43m[\u001b[49m\u001b[43m:\u001b[49m\u001b[43m,\u001b[49m\u001b[43m \u001b[49m\u001b[38;5;241;43m0\u001b[39;49m\u001b[43m]\u001b[49m \u001b[38;5;241m-\u001b[39m X_extrapol[:, \u001b[38;5;241m0\u001b[39m])\n",
      "\u001b[0;31mIndexError\u001b[0m: too many indices for array: array is 1-dimensional, but 2 were indexed"
     ]
    }
   ],
   "source": [
    "err = np.zeros(500)\n",
    "xf = X_filt\n",
    "for i in range(500):\n",
    "    xf = kalman_filt_x(xf, X0, P0, F, Q, R, H)\n",
    "    X_extrapol = np.zeros([200, 2])\n",
    "    for i in range(m - 1,len(X_filt)):\n",
    "        X_extrapol[i] = extrapol(X_filt[:,:][i - m + 1], m, F)\n",
    "    err[i] = np.std(xf[:, 0] - X_extrapol[:, 0])"
   ]
  },
  {
   "cell_type": "code",
   "execution_count": 173,
   "id": "7351b27c",
   "metadata": {},
   "outputs": [
    {
     "data": {
      "text/plain": [
       "array([   2.        ,   16.08181516,   21.43538617,   23.4406917 ,\n",
       "         13.70584992,   17.64316153,   16.72039026,    5.8095681 ,\n",
       "         -4.51298998,  -14.02672772,  -17.41898132,  -17.01902034,\n",
       "        -18.51051563,  -19.37635084,  -19.60698198,  -18.9273172 ,\n",
       "        -18.47334361,  -18.16215756,  -17.72259932,  -17.61559877,\n",
       "        -18.86284737,  -20.28358389,  -21.94232278,  -23.6417435 ,\n",
       "        -25.57484863,  -26.53361832,  -27.02774041,  -27.48470998,\n",
       "        -28.17973377,  -28.64910182,  -28.68692808,  -29.19319986,\n",
       "        -29.59607994,  -29.75286802,  -29.62956789,  -29.21867269,\n",
       "        -29.06118022,  -28.26069584,  -26.52879048,  -24.47160201,\n",
       "        -22.12701889,  -19.6105325 ,  -17.05892215,  -14.57101735,\n",
       "        -11.73302876,   -9.123082  ,   -6.03650701,   -3.46313208,\n",
       "         -1.07985264,    0.7230398 ,    1.73395597,    2.39661103,\n",
       "          2.44412961,    2.82670089,    2.777686  ,    2.08234637,\n",
       "          1.23073124,    0.22913276,   -1.05545643,   -1.79672442,\n",
       "         -2.92282846,   -4.53071799,   -5.66669315,   -7.43410023,\n",
       "         -9.44277252,  -11.32529729,  -13.10287912,  -15.28047777,\n",
       "        -17.91421334,  -20.47845422,  -22.6020462 ,  -24.59396928,\n",
       "        -26.48144292,  -28.1857073 ,  -30.41681658,  -32.40076325,\n",
       "        -34.24282931,  -36.14970806,  -37.92672388,  -39.69986276,\n",
       "        -41.46557629,  -43.15327825,  -45.29913021,  -47.23560855,\n",
       "        -48.948875  ,  -51.61609853,  -54.59772334,  -57.0035261 ,\n",
       "        -59.06897926,  -61.23331743,  -62.42244479,  -64.43826036,\n",
       "        -66.80487405,  -69.02994223,  -71.16811816,  -73.83456517,\n",
       "        -75.97080545,  -78.13035301,  -80.53763339,  -82.54863036,\n",
       "        -84.33189316,  -85.20551168,  -85.94794539,  -86.5005773 ,\n",
       "        -86.38925373,  -85.73836752,  -84.91988914,  -83.73419715,\n",
       "        -82.92735494,  -82.06882723,  -81.59339406,  -80.81930587,\n",
       "        -79.85148302,  -79.16670252,  -77.92228661,  -76.869585  ,\n",
       "        -75.55113361,  -74.3075457 ,  -73.28118614,  -71.88648221,\n",
       "        -71.33420353,  -70.27457201,  -69.59184335,  -69.90250118,\n",
       "        -70.4036655 ,  -71.50896887,  -72.95585783,  -75.10680161,\n",
       "        -77.8542529 ,  -80.10203796,  -82.70571595,  -85.1763463 ,\n",
       "        -87.05558915,  -88.81170271,  -90.87300231,  -91.95858171,\n",
       "        -92.95517998,  -94.42343698,  -96.18822062,  -97.45618129,\n",
       "        -98.5648192 ,  -99.15957281,  -99.498045  , -100.18584493,\n",
       "       -101.00167122, -101.70854308, -102.19758983, -102.85811106,\n",
       "       -103.6957916 , -104.8324775 , -105.51097348, -105.69003921,\n",
       "       -106.64539035, -106.85785737, -107.35910589, -107.97138094,\n",
       "       -108.41539829, -108.9564849 , -110.18890994, -111.29137947,\n",
       "       -112.53740382, -114.13224832, -115.78570466, -117.47447922,\n",
       "       -119.20082671, -120.64372178, -121.41259989, -122.11163702,\n",
       "       -123.23485735, -124.35588195, -125.31938246, -125.91827397,\n",
       "       -126.92828109, -127.40180294, -127.61220855, -127.46397951,\n",
       "       -128.29614136, -128.78283799, -129.42294659, -129.79970046,\n",
       "       -130.30343138, -130.11002812, -129.52055891, -129.64752292,\n",
       "       -129.34818916, -129.41181258, -130.21446945, -130.8385905 ,\n",
       "       -131.51190728, -131.51097783, -131.13113121, -131.82962095,\n",
       "       -133.35976105, -135.02156917, -136.88409426, -138.5740444 ,\n",
       "       -140.76734101, -143.29702133, -145.43529102, -147.4312241 ])"
      ]
     },
     "execution_count": 173,
     "metadata": {},
     "output_type": "execute_result"
    }
   ],
   "source": [
    "xf"
   ]
  },
  {
   "cell_type": "code",
   "execution_count": 164,
   "id": "4d5dd7bc",
   "metadata": {},
   "outputs": [
    {
     "data": {
      "text/plain": [
       "array([[ 2.00000000e+00,  0.00000000e+00],\n",
       "       [-6.54542117e+00, -2.42069068e+00],\n",
       "       [-1.30147219e+00, -1.03865253e+00],\n",
       "       [-1.24878359e+01, -1.30362952e+00],\n",
       "       [-2.68819793e+01, -1.51282018e+00],\n",
       "       [-3.16773867e+01, -1.24777165e+00],\n",
       "       [-8.28737382e+00,  1.25128824e-01],\n",
       "       [ 2.82364719e+00,  5.00583346e-01],\n",
       "       [-1.88781986e+01, -5.58876085e-01],\n",
       "       [-3.70371700e+01, -1.19723225e+00],\n",
       "       [-6.32003255e+01, -1.93544693e+00],\n",
       "       [-8.87463078e+01, -2.45934499e+00],\n",
       "       [-1.18619418e+02, -2.99619581e+00],\n",
       "       [-1.61663250e+02, -3.88312624e+00],\n",
       "       [-2.11002080e+02, -4.82105728e+00],\n",
       "       [-2.17591075e+02, -3.62824188e+00],\n",
       "       [-2.34455432e+02, -3.25992341e+00],\n",
       "       [-2.42066841e+02, -2.59259832e+00],\n",
       "       [-2.87381910e+02, -3.78122572e+00],\n",
       "       [-3.28383672e+02, -4.30765817e+00],\n",
       "       [-3.58202050e+02, -4.29066786e+00],\n",
       "       [-3.85003499e+02, -4.18783405e+00],\n",
       "       [-4.14787096e+02, -4.19253336e+00],\n",
       "       [-4.59245275e+02, -4.86916439e+00],\n",
       "       [-4.93284700e+02, -4.86611059e+00],\n",
       "       [-5.14987733e+02, -4.29825793e+00],\n",
       "       [-5.41398005e+02, -4.02722984e+00],\n",
       "       [-5.75827297e+02, -4.21457899e+00],\n",
       "       [-6.34107997e+02, -5.44936287e+00]])"
      ]
     },
     "execution_count": 164,
     "metadata": {},
     "output_type": "execute_result"
    }
   ],
   "source": [
    "X_extrapol"
   ]
  },
  {
   "cell_type": "code",
   "execution_count": null,
   "id": "3b314713",
   "metadata": {},
   "outputs": [],
   "source": []
  }
 ],
 "metadata": {
  "kernelspec": {
   "display_name": "Python 3 (ipykernel)",
   "language": "python",
   "name": "python3"
  },
  "language_info": {
   "codemirror_mode": {
    "name": "ipython",
    "version": 3
   },
   "file_extension": ".py",
   "mimetype": "text/x-python",
   "name": "python",
   "nbconvert_exporter": "python",
   "pygments_lexer": "ipython3",
   "version": "3.9.12"
  }
 },
 "nbformat": 4,
 "nbformat_minor": 5
}
