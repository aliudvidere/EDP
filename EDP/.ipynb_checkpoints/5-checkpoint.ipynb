{
 "cells": [
  {
   "cell_type": "code",
   "execution_count": 1,
   "id": "c39aa8a0",
   "metadata": {},
   "outputs": [],
   "source": [
    "# Assigment 5\n",
    "# \n",
    "\n",
    "# Initialisation of libraries \n",
    "import numpy as np\n",
    "import matplotlib.pyplot as plt"
   ]
  },
  {
   "cell_type": "code",
   "execution_count": 2,
   "id": "8f92936c",
   "metadata": {},
   "outputs": [],
   "source": [
    "def gnerate_vel_and_ac(exp, var, T, V0, numb):\n",
    "    arr = np.zeros(numb)\n",
    "    a = np.random.normal(exp, var ** 0.5, numb)\n",
    "    arr[0] = V0\n",
    "    for i in range(1, len(arr)):\n",
    "        arr[i] = arr[i - 1] + a[i - 1] * T\n",
    "    return arr, a\n",
    "def generate_x(T, X0, a, v):\n",
    "    arr = np.zeros(len(a))\n",
    "    arr[0] = X0\n",
    "    for i in range(1, len(a)):\n",
    "        arr[i] = arr[i - 1] + v[i - 1] * T + a[i - 1] * (T ** 2) / 2\n",
    "    return arr"
   ]
  },
  {
   "cell_type": "code",
   "execution_count": 3,
   "id": "c215226e",
   "metadata": {},
   "outputs": [],
   "source": [
    "# PART 1\n",
    "x0 = 5\n",
    "v0 = 1\n",
    "T = 1\n",
    "sigmaa_2 = 0.2 ** 2\n",
    "numb = 200\n",
    "v,a = gnerate_vel_and_ac(0, sigmaa_2 ** 0.5, T, v0, numb)\n",
    "x = generate_x(T, x0, a, v)"
   ]
  },
  {
   "cell_type": "code",
   "execution_count": 4,
   "id": "b0a65d6d",
   "metadata": {},
   "outputs": [],
   "source": [
    "sigmaeta_2 = 20 ** 2\n",
    "eta = np.random.normal(0, sigmaeta_2 ** 0.5, 200)\n",
    "z = x + eta"
   ]
  },
  {
   "cell_type": "code",
   "execution_count": 5,
   "id": "fb755f16",
   "metadata": {},
   "outputs": [],
   "source": [
    "F = np.array([[1, T], [0, 1]])\n",
    "G = np.array([T ** 2 / 2, T])\n",
    "H = np.array([1, 0])"
   ]
  },
  {
   "cell_type": "code",
   "execution_count": 6,
   "id": "dee10324",
   "metadata": {},
   "outputs": [],
   "source": [
    "X = np.zeros([200, 2])\n",
    "X[0] = np.array([x[0], v[0]])\n",
    "for i in range(1, len(X)):\n",
    "    X[i] = np.dot(F, X[i - 1]) + np.dot(G, a[i - 1])"
   ]
  },
  {
   "cell_type": "code",
   "execution_count": 7,
   "id": "f9118fa9",
   "metadata": {},
   "outputs": [],
   "source": [
    "for i in range(len(x)):\n",
    "    z[i] = np.dot(H, X[i]) + eta[i]"
   ]
  },
  {
   "cell_type": "code",
   "execution_count": 8,
   "id": "69627c23",
   "metadata": {},
   "outputs": [],
   "source": [
    "X_pred = np.zeros([200, 2])\n",
    "P_pred = np.zeros([200, 2, 2])\n",
    "Q = np.dot(np.dot(G, G.transpose()), sigmaa_2)\n",
    "R = sigmaeta_2\n",
    "\n",
    "Q = 0\n",
    "\n",
    "X_pred[0] = np.array([2, 0])\n",
    "P_pred[0] = np.array([[10000, 0], [0, 10000]])\n",
    "\n",
    "#Prediction\n",
    "for i in range(1, len(X_pred)):\n",
    "    X_pred[i] = np.dot(F, X_pred[i - 1])\n",
    "    P_pred[i] = np.dot(np.dot(F, P_pred[i - 1]), F.transpose()) + Q\n"
   ]
  },
  {
   "cell_type": "code",
   "execution_count": 9,
   "id": "6f2bc273",
   "metadata": {},
   "outputs": [],
   "source": [
    "#Filtration\n",
    "X_filt = np.zeros([200, 2])\n",
    "P_filt = np.zeros([200, 2])\n",
    "K = np.zeros([200, 2])\n",
    "\n",
    "for i in range(len(K)):\n",
    "    K[i] = np.dot(np.dot(P_pred[i], H.transpose()), (np.dot(np.dot(H, P_pred[i]), H.transpose()) + R) ** (-1))\n",
    "\n",
    "for i in range(len(X)):\n",
    "    X_filt[i] = X_pred[i] + np.dot(K[i], (z[i] - np.dot(H, X_pred[i])))"
   ]
  },
  {
   "cell_type": "code",
   "execution_count": 20,
   "id": "5dea61b0",
   "metadata": {},
   "outputs": [
    {
     "data": {
      "text/plain": [
       "[<matplotlib.lines.Line2D at 0x7feab0d17d90>]"
      ]
     },
     "execution_count": 20,
     "metadata": {},
     "output_type": "execute_result"
    },
    {
     "data": {
      "image/png": "[encoded data removed]",
      "text/plain": [
       "<Figure size 432x288 with 1 Axes>"
      ]
     },
     "metadata": {
      "needs_background": "light"
     },
     "output_type": "display_data"
    }
   ],
   "source": [
    "plt.plot(X_filt[:,0])\n",
    "# plt.plot(X_filt[:, 0])"
   ]
  },
  {
   "cell_type": "code",
   "execution_count": 22,
   "id": "992259ad",
   "metadata": {},
   "outputs": [
    {
     "data": {
      "text/plain": [
       "0.05000000000000001"
      ]
     },
     "execution_count": 22,
     "metadata": {},
     "output_type": "execute_result"
    }
   ],
   "source": [
    "Q"
   ]
  },
  {
   "cell_type": "code",
   "execution_count": 12,
   "id": "80e35534",
   "metadata": {},
   "outputs": [
    {
     "data": {
      "text/plain": [
       "array([16.19151153,  3.11376599])"
      ]
     },
     "execution_count": 12,
     "metadata": {},
     "output_type": "execute_result"
    }
   ],
   "source": [
    "np.dot(K[5], (z[5] - np.dot(H, X_pred[5])))"
   ]
  },
  {
   "cell_type": "code",
   "execution_count": 24,
   "id": "61fa1019",
   "metadata": {},
   "outputs": [
    {
     "data": {
      "text/plain": [
       "2.0"
      ]
     },
     "execution_count": 24,
     "metadata": {},
     "output_type": "execute_result"
    }
   ],
   "source": [
    "np.dot(H, X_pred[5])"
   ]
  },
  {
   "cell_type": "code",
   "execution_count": 27,
   "id": "d8d81716",
   "metadata": {},
   "outputs": [
    {
     "data": {
      "text/plain": [
       "[<matplotlib.lines.Line2D at 0x7feab0fb2820>]"
      ]
     },
     "execution_count": 27,
     "metadata": {},
     "output_type": "execute_result"
    },
    {
     "data": {
      "image/png": "[encoded data removed]",
      "text/plain": [
       "<Figure size 432x288 with 1 Axes>"
      ]
     },
     "metadata": {
      "needs_background": "light"
     },
     "output_type": "display_data"
    }
   ],
   "source": [
    "plt.plot(X_filt[:,0]-z)"
   ]
  },
  {
   "cell_type": "code",
   "execution_count": null,
   "id": "dedf0c61",
   "metadata": {},
   "outputs": [],
   "source": []
  }
 ],
 "metadata": {
  "kernelspec": {
   "display_name": "Python 3 (ipykernel)",
   "language": "python",
   "name": "python3"
  },
  "language_info": {
   "codemirror_mode": {
    "name": "ipython",
    "version": 3
   },
   "file_extension": ".py",
   "mimetype": "text/x-python",
   "name": "python",
   "nbconvert_exporter": "python",
   "pygments_lexer": "ipython3",
   "version": "3.9.12"
  }
 },
 "nbformat": 4,
 "nbformat_minor": 5
}
