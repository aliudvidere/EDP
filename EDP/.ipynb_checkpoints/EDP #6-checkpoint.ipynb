{
 "cells": [
  {
   "cell_type": "code",
   "execution_count": 1,
   "id": "5640f76b",
   "metadata": {},
   "outputs": [],
   "source": [
    "import matplotlib.pyplot as plt\n",
    "import numpy as np"
   ]
  },
  {
   "cell_type": "code",
   "execution_count": 317,
   "id": "a4160017",
   "metadata": {},
   "outputs": [],
   "source": [
    "def gnerate_vel_and_ac(exp, var, T, V0, numb):\n",
    "    arr = np.zeros(numb)\n",
    "    a = np.random.normal(exp, var ** 0.5, numb)\n",
    "    arr[0] = V0\n",
    "    for i in range(1, len(arr)):\n",
    "        arr[i] = arr[i - 1] + a[i - 1] * T\n",
    "    return arr, a\n",
    "def generate_x(T, X0, a, v):\n",
    "    arr = np.zeros(len(a))\n",
    "    arr[0] = X0\n",
    "    for i in range(1, len(a)):\n",
    "        arr[i] = arr[i - 1] + v[i - 1] * T + a[i - 1] * (T ** 2) / 2\n",
    "    return arr\n",
    "\n",
    "def kalman_filt(z, X0, P0, F, Q, R, H):\n",
    "    Xii = np.zeros([200, 2])\n",
    "    Xiin1 = np.zeros([200, 2])\n",
    "    Piin1 = np.zeros([200, 2 , 2])\n",
    "    Pii = np.zeros([200, 2 , 2])\n",
    "    K = np.zeros([200, 2])\n",
    "    Xii[0] = X0\n",
    "    Xiin1[0] = X0\n",
    "    Pii[0] = P0\n",
    "    Piin1[0] = P0\n",
    "    for i in range(1, len(X)):\n",
    "        Xiin1[i] = np.dot(F, Xii[i - 1].reshape(2, 1)).reshape(1, 2)\n",
    "        Piin1[i] = np.dot(np.dot(F, Pii[i - 1]), F.transpose()) + Q\n",
    "\n",
    "        K[i] = (Piin1[i].dot(H.reshape(2, 1))).dot((((H.reshape(1,2)).dot(Piin1[i])).dot(H.reshape(2, 1)) + R) ** (-1)).reshape(1, 2)\n",
    "\n",
    "        Xii[i] = Xiin1[i] + K[i] * (z[i] - np.dot(H, Xiin1[i]))\n",
    "        Pii[i] = (np.identity(2) - (K[i].reshape(2,1)).dot(H.reshape(1,2))).dot(Piin1[i])\n",
    "        \n",
    "    return Xii, Pii, Piin1, K\n",
    "        \n",
    "def extrapol(x, m, F):\n",
    "    arr = np.array(x)\n",
    "    F_pow = np.linalg.matrix_power(F, m - 1)\n",
    "    for i in range(len(x) - m + 1):\n",
    "        arr[i + m - 1] = F_pow.dot(x[i])\n",
    "    return arr\n",
    "\n",
    "def backward_smooth(Xii, F, Pii, Piin1):\n",
    "    x = np.array(Xii)\n",
    "    Pn = np.array(Pii)\n",
    "    A = np.zeros([200, 2, 2])\n",
    "    for i in range(len(x) - 2, -1, -1):\n",
    "        A[i] = (Pii[i].dot(F.transpose())).dot(np.linalg.inv(Piin1[i]))\n",
    "        x[i] = Xii[i] + A[i].dot(x[i + 1] - F.dot(Xii[i]))\n",
    "        Pn[i] = Pii[i] + (A[i].dot(Pn[i + 1] - Piin1[i])).dot(A[i].transpose())\n",
    "    return x, Pn"
   ]
  },
  {
   "cell_type": "code",
   "execution_count": 318,
   "id": "25e751cf",
   "metadata": {},
   "outputs": [],
   "source": [
    "x0 = 5\n",
    "v0 = 1\n",
    "T = 1\n",
    "sigmaa_2 = 0.2 ** 2\n",
    "numb = 200\n",
    "v,a = gnerate_vel_and_ac(0, sigmaa_2 ** 0.5, T, v0, numb)\n",
    "x = generate_x(T, x0, a, v)\n",
    "sigmaeta_2 = 20 ** 2\n",
    "eta = np.random.normal(0, sigmaeta_2 ** 0.5, 200)\n",
    "F = np.array([[1, T], [0, 1]])\n",
    "G = np.array([T ** 2 / 2, T])\n",
    "H = np.array([1, 0])\n",
    "z = np.zeros(200)\n",
    "X = np.zeros([200, 2])\n",
    "X[0] = np.array([x[0], v[0]])\n",
    "for i in range(1, len(X)):\n",
    "    X[i] = np.dot(F, X[i - 1]) + np.dot(G, a[i - 1])\n",
    "for i in range(len(x)):\n",
    "    z[i] = np.dot(H, X[i]) + eta[i]\n",
    "Q = np.dot(np.dot(G, G.transpose()), sigmaa_2)\n",
    "R = sigmaeta_2\n",
    "X0 = np.array([5, 1])\n",
    "P0 = np.array([[1000, 0], [0, 1000]])"
   ]
  },
  {
   "cell_type": "code",
   "execution_count": 319,
   "id": "b335a8d3",
   "metadata": {},
   "outputs": [
    {
     "name": "stderr",
     "output_type": "stream",
     "text": [
      "/var/folders/9y/cbn__xb93h3710lq08dsvk9r0000gn/T/ipykernel_35235/4111586537.py:29: RuntimeWarning: invalid value encountered in reciprocal\n",
      "  K[i] = (Piin1[i].dot(H.reshape(2, 1))).dot((((H.reshape(1,2)).dot(Piin1[i])).dot(H.reshape(2, 1)) + R) ** (-1)).reshape(1, 2)\n"
     ]
    }
   ],
   "source": [
    "X_filt, Pii, Piin1, K = kalman_filt(z, X0, P0, F, Q, R, H)\n",
    "X_back, Pn = backward_smooth(X_filt, F, Pii, Piin1)"
   ]
  },
  {
   "cell_type": "code",
   "execution_count": null,
   "id": "0d4a4555",
   "metadata": {},
   "outputs": [],
   "source": []
  },
  {
   "cell_type": "code",
   "execution_count": 320,
   "id": "42acc0ab",
   "metadata": {},
   "outputs": [
    {
     "data": {
      "image/png": "[encoded data removed]",
      "text/plain": [
       "<Figure size 432x288 with 1 Axes>"
      ]
     },
     "metadata": {
      "needs_background": "light"
     },
     "output_type": "display_data"
    }
   ],
   "source": [
    "plt.plot(z)\n",
    "plt.plot(X_filt[:, 0])\n",
    "plt.plot(X_back[:, 0])\n",
    "plt.show()"
   ]
  },
  {
   "cell_type": "code",
   "execution_count": 333,
   "id": "935bee8c",
   "metadata": {},
   "outputs": [
    {
     "name": "stderr",
     "output_type": "stream",
     "text": [
      "/var/folders/9y/cbn__xb93h3710lq08dsvk9r0000gn/T/ipykernel_35235/4111586537.py:29: RuntimeWarning: invalid value encountered in reciprocal\n",
      "  K[i] = (Piin1[i].dot(H.reshape(2, 1))).dot((((H.reshape(1,2)).dot(Piin1[i])).dot(H.reshape(2, 1)) + R) ** (-1)).reshape(1, 2)\n"
     ]
    }
   ],
   "source": [
    "P = np.zeros([500, 200, 2, 2])\n",
    "Pn1 = np.zeros([500, 200, 2, 2])\n",
    "Pn = np.zeros([500, 200, 2, 2])\n",
    "P_res = np.zeros([200, 2, 2])\n",
    "P_resn1 = np.zeros([200, 2, 2])\n",
    "P_resn = np.zeros([200, 2, 2])\n",
    "err = np.zeros([500, 197, 2])\n",
    "err_sm = np.zeros([500, 197, 2])\n",
    "P0 = np.array([[10000, 0], [0, 10000]])\n",
    "for i in range(500):\n",
    "    v,a = gnerate_vel_and_ac(0, sigmaa_2 ** 0.5, T, v0, numb)\n",
    "    X = np.zeros([200, 2])\n",
    "    X[0] = X0\n",
    "    for j in range(1, len(X)):\n",
    "        X[j] = np.dot(F, X[j - 1]) + np.dot(G, a[j - 1])\n",
    "    z = np.zeros(200)\n",
    "    eta = np.random.normal(0, sigmaeta_2 ** 0.5, 200)\n",
    "    for k in range(len(x)):\n",
    "        z[k] = np.dot(H, X[k]) + eta[k]\n",
    "    X_filt, P[i], Pn1[i] = kalman_filt(z, X0, P0, F, Q, R, H)[:3]\n",
    "    X_smooth, Pn[i] = backward_smooth(X_filt, F, P[i], Pn1[i])\n",
    "    \n",
    "    err[i] = np.array(X[3:] - X_filt[3:]) ** 2\n",
    "    err_sm[i] = np.array(X[3:] - X_smooth[3:]) ** 2\n",
    "final_err = np.zeros([197, 2])\n",
    "final_err_smooth = np.zeros([197, 2])\n",
    "for i in range(197):\n",
    "    final_err[i] = (np.mean(err[:, i])) ** 0.5\n",
    "for i in range(197):\n",
    "    final_err_smooth[i] = (np.mean(err_sm[:, i])) ** 0.5\n",
    "for i in range(200):\n",
    "    P_res[i] = np.mean(P[:,i])\n",
    "for i in range(200):\n",
    "    P_resn1[i] = np.mean(Pn1[:,i])\n",
    "for i in range(200):\n",
    "    P_resn[i] = np.mean(Pn[:,i])"
   ]
  },
  {
   "cell_type": "code",
   "execution_count": null,
   "id": "936e13da",
   "metadata": {},
   "outputs": [],
   "source": []
  },
  {
   "cell_type": "code",
   "execution_count": 334,
   "id": "0444c36b",
   "metadata": {},
   "outputs": [
    {
     "data": {
      "image/png": "[encoded data removed]",
      "text/plain": [
       "<Figure size 432x288 with 1 Axes>"
      ]
     },
     "metadata": {
      "needs_background": "light"
     },
     "output_type": "display_data"
    },
    {
     "data": {
      "text/plain": [
       "[<matplotlib.lines.Line2D at 0x7fd83682dd00>]"
      ]
     },
     "execution_count": 334,
     "metadata": {},
     "output_type": "execute_result"
    },
    {
     "data": {
      "image/png": "[encoded data removed]",
      "text/plain": [
       "<Figure size 432x288 with 1 Axes>"
      ]
     },
     "metadata": {
      "needs_background": "light"
     },
     "output_type": "display_data"
    }
   ],
   "source": [
    "plt.plot(P_res[:, 0, 0] ** 0.5)\n",
    "plt.plot(final_err[:, 0])\n",
    "plt.show()\n",
    "plt.plot(P_res[:, 1, 1] ** 0.5)\n",
    "plt.plot(final_err[:, 1])"
   ]
  },
  {
   "cell_type": "code",
   "execution_count": 336,
   "id": "a1826219",
   "metadata": {},
   "outputs": [
    {
     "name": "stderr",
     "output_type": "stream",
     "text": [
      "/var/folders/9y/cbn__xb93h3710lq08dsvk9r0000gn/T/ipykernel_35235/1170595240.py:2: RuntimeWarning: invalid value encountered in sqrt\n",
      "  plt.plot(P_resn[:, 0, 0] ** 0.5)\n"
     ]
    },
    {
     "data": {
      "text/plain": [
       "[<matplotlib.lines.Line2D at 0x7fd836a1b130>]"
      ]
     },
     "execution_count": 336,
     "metadata": {},
     "output_type": "execute_result"
    },
    {
     "data": {
      "image/png": "[encoded data removed]",
      "text/plain": [
       "<Figure size 432x288 with 1 Axes>"
      ]
     },
     "metadata": {
      "needs_background": "light"
     },
     "output_type": "display_data"
    }
   ],
   "source": [
    "plt.plot(P_res[:, 0, 0] ** 0.5)\n",
    "plt.plot(P_resn[:, 0, 0] ** 0.5)"
   ]
  }
 ],
 "metadata": {
  "kernelspec": {
   "display_name": "Python 3 (ipykernel)",
   "language": "python",
   "name": "python3"
  },
  "language_info": {
   "codemirror_mode": {
    "name": "ipython",
    "version": 3
   },
   "file_extension": ".py",
   "mimetype": "text/x-python",
   "name": "python",
   "nbconvert_exporter": "python",
   "pygments_lexer": "ipython3",
   "version": "3.9.12"
  }
 },
 "nbformat": 4,
 "nbformat_minor": 5
}
