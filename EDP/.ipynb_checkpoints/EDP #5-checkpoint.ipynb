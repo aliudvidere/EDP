{
 "cells": [
  {
   "cell_type": "code",
   "execution_count": 1,
   "id": "c39aa8a0",
   "metadata": {},
   "outputs": [],
   "source": [
    "# Assigment 5\n",
    "# \n",
    "\n",
    "# Initialisation of libraries \n",
    "import numpy as np\n",
    "import matplotlib.pyplot as plt"
   ]
  },
  {
   "cell_type": "code",
   "execution_count": 20,
   "id": "8f92936c",
   "metadata": {},
   "outputs": [],
   "source": [
    "def gnerate_vel_and_ac(exp, var, T, V0, numb):\n",
    "    arr = np.zeros(numb)\n",
    "    a = np.random.normal(exp, var ** 0.5, numb)\n",
    "    arr[0] = V0\n",
    "    for i in range(1, len(arr)):\n",
    "        arr[i] = arr[i - 1] + a[i - 1] * T\n",
    "    return arr, a\n",
    "def generate_x(T, X0, a, v):\n",
    "    arr = np.zeros(len(a))\n",
    "    arr[0] = X0\n",
    "    for i in range(1, len(a)):\n",
    "        arr[i] = arr[i - 1] + v[i - 1] * T + a[i - 1] * (T ** 2) / 2\n",
    "    return arr\n",
    "def kalman_filt(z, X0, P0, F, Q, R, H):\n",
    "    \n",
    "    arr = np.zeros([200, 2])\n",
    "    P = np.zeros([200, 2 , 2])\n",
    "    K = np.zeros([200, 2])\n",
    "    arr[0] = X0\n",
    "    P[0] = P0\n",
    "    \n",
    "    for i in range(1, len(X)):\n",
    "        arr[i] = np.dot(F, arr[i - 1].reshape(2, 1)).reshape(1, 2)\n",
    "        P[i] = np.dot(np.dot(F, P[i - 1]), F.transpose()) + Q\n",
    "\n",
    "        K[i] = (P[i].dot(H.reshape(2, 1))).dot((((H.reshape(1,2)).dot(P[i])).dot(H.reshape(2, 1)) + R) ** (-1)).reshape(1, 2)\n",
    "\n",
    "        arr[i] = arr[i] + K[i] * (z[i] - np.dot(H, arr[i]))\n",
    "        P[i] = (np.identity(2) - (K[i].reshape(2,1)).dot(H.reshape(1,2))).dot(P[i])\n",
    "        \n",
    "    return arr, P, K\n",
    "\n",
    "def kalman_filt_x(z, X0, P0, F, Q, R, H):\n",
    "    \n",
    "    arr = np.zeros([200, 2])\n",
    "    P = np.zeros([200, 2 , 2])\n",
    "    K = np.zeros([200, 2])\n",
    "    arr[0] = X0\n",
    "    P[0] = P0\n",
    "    \n",
    "    for i in range(1, len(X)):\n",
    "        arr[i] = np.dot(F, arr[i - 1].reshape(2, 1)).reshape(1, 2)\n",
    "        P[i] = np.dot(np.dot(F, P[i - 1]), F.transpose()) + Q\n",
    "\n",
    "        K[i] = (P[i].dot(H.reshape(2, 1))).dot((((H.reshape(1,2)).dot(P[i])).dot(H.reshape(2, 1)) + R) ** (-1)).reshape(1, 2)\n",
    "\n",
    "        arr[i] = arr[i] + K[i] * (z[i] - np.dot(H, arr[i]))\n",
    "        P[i] = (np.identity(2) - (K[i].reshape(2,1)).dot(H.reshape(1,2))).dot(P[i])\n",
    "        \n",
    "    return arr\n",
    "def extrapol(x, m, F):\n",
    "    arr = np.array(x)\n",
    "    F_pow = np.linalg.matrix_power(F, m - 1)\n",
    "    for i in range(len(x) - m + 1):\n",
    "        arr[i + m - 1] = F_pow.dot(x[i])\n",
    "    return arr\n",
    "        "
   ]
  },
  {
   "cell_type": "code",
   "execution_count": 3,
   "id": "c215226e",
   "metadata": {},
   "outputs": [],
   "source": [
    "# PART 1\n",
    "x0 = 5\n",
    "v0 = 1\n",
    "T = 1\n",
    "sigmaa_2 = 0.2 ** 2\n",
    "numb = 200\n",
    "v,a = gnerate_vel_and_ac(0, sigmaa_2 ** 0.5, T, v0, numb)\n",
    "x = generate_x(T, x0, a, v)"
   ]
  },
  {
   "cell_type": "code",
   "execution_count": 4,
   "id": "b0a65d6d",
   "metadata": {},
   "outputs": [],
   "source": [
    "# PART 2\n",
    "sigmaeta_2 = 20 ** 2\n",
    "eta = np.random.normal(0, sigmaeta_2 ** 0.5, 200)\n",
    "z = x + eta"
   ]
  },
  {
   "cell_type": "code",
   "execution_count": 5,
   "id": "fb755f16",
   "metadata": {},
   "outputs": [],
   "source": [
    "# PART 3\n",
    "F = np.array([[1, T], [0, 1]])\n",
    "G = np.array([T ** 2 / 2, T])\n",
    "H = np.array([1, 0])"
   ]
  },
  {
   "cell_type": "code",
   "execution_count": 6,
   "id": "dee10324",
   "metadata": {},
   "outputs": [],
   "source": [
    "X = np.zeros([200, 2])\n",
    "X[0] = np.array([x[0], v[0]])\n",
    "for i in range(1, len(X)):\n",
    "    X[i] = np.dot(F, X[i - 1]) + np.dot(G, a[i - 1])"
   ]
  },
  {
   "cell_type": "code",
   "execution_count": 7,
   "id": "f9118fa9",
   "metadata": {},
   "outputs": [],
   "source": [
    "for i in range(len(x)):\n",
    "    z[i] = np.dot(H, X[i]) + eta[i]"
   ]
  },
  {
   "cell_type": "code",
   "execution_count": 21,
   "id": "69627c23",
   "metadata": {},
   "outputs": [
    {
     "name": "stderr",
     "output_type": "stream",
     "text": [
      "/var/folders/9y/cbn__xb93h3710lq08dsvk9r0000gn/T/ipykernel_71390/2534033188.py:26: RuntimeWarning: invalid value encountered in reciprocal\n",
      "  K[i] = (P[i].dot(H.reshape(2, 1))).dot((((H.reshape(1,2)).dot(P[i])).dot(H.reshape(2, 1)) + R) ** (-1)).reshape(1, 2)\n"
     ]
    }
   ],
   "source": [
    "# PART 4\n",
    "Q = np.dot(np.dot(G, G.transpose()), sigmaa_2)\n",
    "R = sigmaeta_2\n",
    "X0 = np.array([2, 0])\n",
    "P0 = np.array([[10000, 0], [0, 10000]])\n",
    "\n",
    "X_filt, P, K = kalman_filt(z, X0, P0, F, Q, R, H)"
   ]
  },
  {
   "cell_type": "code",
   "execution_count": 22,
   "id": "9b466549",
   "metadata": {},
   "outputs": [
    {
     "data": {
      "text/plain": [
       "<matplotlib.legend.Legend at 0x7fe3c54b1790>"
      ]
     },
     "execution_count": 22,
     "metadata": {},
     "output_type": "execute_result"
    },
    {
     "data": {
      "image/png": "[encoded data removed]",
      "text/plain": [
       "<Figure size 432x288 with 1 Axes>"
      ]
     },
     "metadata": {
      "needs_background": "light"
     },
     "output_type": "display_data"
    }
   ],
   "source": [
    "# PART 5\n",
    "plt.plot(X[:,0])\n",
    "plt.plot(z)\n",
    "plt.plot(X_filt[:,0])\n",
    "plt.legend([\"1\", \"2\", \"3\"])"
   ]
  },
  {
   "cell_type": "code",
   "execution_count": 28,
   "id": "507cd5a9",
   "metadata": {},
   "outputs": [
    {
     "name": "stderr",
     "output_type": "stream",
     "text": [
      "/var/folders/9y/cbn__xb93h3710lq08dsvk9r0000gn/T/ipykernel_71390/2534033188.py:45: RuntimeWarning: invalid value encountered in reciprocal\n",
      "  K[i] = (P[i].dot(H.reshape(2, 1))).dot((((H.reshape(1,2)).dot(P[i])).dot(H.reshape(2, 1)) + R) ** (-1)).reshape(1, 2)\n",
      "/var/folders/9y/cbn__xb93h3710lq08dsvk9r0000gn/T/ipykernel_71390/2534033188.py:45: RuntimeWarning: invalid value encountered in reciprocal\n",
      "  K[i] = (P[i].dot(H.reshape(2, 1))).dot((((H.reshape(1,2)).dot(P[i])).dot(H.reshape(2, 1)) + R) ** (-1)).reshape(1, 2)\n",
      "/var/folders/9y/cbn__xb93h3710lq08dsvk9r0000gn/T/ipykernel_71390/2534033188.py:45: RuntimeWarning: invalid value encountered in reciprocal\n",
      "  K[i] = (P[i].dot(H.reshape(2, 1))).dot((((H.reshape(1,2)).dot(P[i])).dot(H.reshape(2, 1)) + R) ** (-1)).reshape(1, 2)\n"
     ]
    },
    {
     "data": {
      "text/plain": [
       "<matplotlib.legend.Legend at 0x7fe3c76b1820>"
      ]
     },
     "execution_count": 28,
     "metadata": {},
     "output_type": "execute_result"
    },
    {
     "data": {
      "image/png": "[encoded data removed]",
      "text/plain": [
       "<Figure size 432x288 with 1 Axes>"
      ]
     },
     "metadata": {
      "needs_background": "light"
     },
     "output_type": "display_data"
    }
   ],
   "source": [
    "plt.plot(X_filt[:,0])\n",
    "plt.plot(kalman_filt_x(X_filt[:,0], X0, P0, F, Q, R, H)[:,0])\n",
    "plt.plot(kalman_filt_x(kalman_filt_x(X_filt[:,0], X0, P0, F, Q, R, H)[:,0], X0, P0, F, Q, R, H)[:,0])\n",
    "plt.plot(kalman_filt_x(kalman_filt_x(kalman_filt_x(X_filt[:,0], X0, P0, F, Q, R, H)[:,0], X0, P0, F, Q, R, H)[:,0], X0, P0, F, Q, R, H)[:,0])\n",
    "plt.legend([\"1\", \"2\", \"3\", \"4\"])"
   ]
  },
  {
   "cell_type": "code",
   "execution_count": 27,
   "id": "b891b49a",
   "metadata": {},
   "outputs": [
    {
     "name": "stdout",
     "output_type": "stream",
     "text": [
      "Gain stable =  0.13895150652807645\n",
      "Standard deviation of estimation error stable =  55.58060261123058\n"
     ]
    },
    {
     "data": {
      "image/png": "[encoded data removed]",
      "text/plain": [
       "<Figure size 432x288 with 1 Axes>"
      ]
     },
     "metadata": {
      "needs_background": "light"
     },
     "output_type": "display_data"
    },
    {
     "data": {
      "text/plain": [
       "[<matplotlib.lines.Line2D at 0x7fe3c7603d00>]"
      ]
     },
     "execution_count": 27,
     "metadata": {},
     "output_type": "execute_result"
    },
    {
     "data": {
      "image/png": "[encoded data removed]",
      "text/plain": [
       "<Figure size 432x288 with 1 Axes>"
      ]
     },
     "metadata": {
      "needs_background": "light"
     },
     "output_type": "display_data"
    }
   ],
   "source": [
    "# PART 6\n",
    "print(\"Gain stable = \", K[125, 0])\n",
    "print(\"Standard deviation of estimation error stable = \", P[125, 0, 0])\n",
    "plt.plot(K[:, 0])\n",
    "plt.show()\n",
    "plt.plot(P[:, 0, 0] ** 0.5)"
   ]
  },
  {
   "cell_type": "code",
   "execution_count": 10,
   "id": "e1511d16",
   "metadata": {},
   "outputs": [
    {
     "name": "stderr",
     "output_type": "stream",
     "text": [
      "/var/folders/9y/cbn__xb93h3710lq08dsvk9r0000gn/T/ipykernel_71390/3464141740.py:45: RuntimeWarning: invalid value encountered in reciprocal\n",
      "  K[i] = (P[i].dot(H.reshape(2, 1))).dot((((H.reshape(1,2)).dot(P[i])).dot(H.reshape(2, 1)) + R) ** (-1)).reshape(1, 2)\n",
      "/var/folders/9y/cbn__xb93h3710lq08dsvk9r0000gn/T/ipykernel_71390/3464141740.py:45: RuntimeWarning: invalid value encountered in reciprocal\n",
      "  K[i] = (P[i].dot(H.reshape(2, 1))).dot((((H.reshape(1,2)).dot(P[i])).dot(H.reshape(2, 1)) + R) ** (-1)).reshape(1, 2)\n",
      "/var/folders/9y/cbn__xb93h3710lq08dsvk9r0000gn/T/ipykernel_71390/3464141740.py:45: RuntimeWarning: invalid value encountered in reciprocal\n",
      "  K[i] = (P[i].dot(H.reshape(2, 1))).dot((((H.reshape(1,2)).dot(P[i])).dot(H.reshape(2, 1)) + R) ** (-1)).reshape(1, 2)\n"
     ]
    },
    {
     "data": {
      "text/plain": [
       "<matplotlib.legend.Legend at 0x7fe3c43eac10>"
      ]
     },
     "execution_count": 10,
     "metadata": {},
     "output_type": "execute_result"
    },
    {
     "data": {
      "image/png": "[encoded data removed]",
      "text/plain": [
       "<Figure size 432x288 with 1 Axes>"
      ]
     },
     "metadata": {
      "needs_background": "light"
     },
     "output_type": "display_data"
    }
   ],
   "source": []
  },
  {
   "cell_type": "code",
   "execution_count": 12,
   "id": "11982d22",
   "metadata": {},
   "outputs": [],
   "source": [
    "m = 7\n",
    "X_extrapol = extrapol(X_filt, m, F)"
   ]
  },
  {
   "cell_type": "code",
   "execution_count": 13,
   "id": "bd41fc2e",
   "metadata": {},
   "outputs": [
    {
     "data": {
      "text/plain": [
       "<matplotlib.legend.Legend at 0x7fe3c4572400>"
      ]
     },
     "execution_count": 13,
     "metadata": {},
     "output_type": "execute_result"
    },
    {
     "data": {
      "image/png": "[encoded data removed]",
      "text/plain": [
       "<Figure size 432x288 with 1 Axes>"
      ]
     },
     "metadata": {
      "needs_background": "light"
     },
     "output_type": "display_data"
    }
   ],
   "source": [
    "plt.plot(X_filt[:, 0])\n",
    "plt.plot(X_extrapol[:, 0])\n",
    "plt.legend([\"1\", \"2\"])"
   ]
  },
  {
   "cell_type": "code",
   "execution_count": 15,
   "id": "fcf82821",
   "metadata": {},
   "outputs": [
    {
     "name": "stderr",
     "output_type": "stream",
     "text": [
      "/var/folders/9y/cbn__xb93h3710lq08dsvk9r0000gn/T/ipykernel_71390/3464141740.py:26: RuntimeWarning: invalid value encountered in reciprocal\n",
      "  K[i] = (P[i].dot(H.reshape(2, 1))).dot((((H.reshape(1,2)).dot(P[i])).dot(H.reshape(2, 1)) + R) ** (-1)).reshape(1, 2)\n"
     ]
    }
   ],
   "source": [
    "err1 = np.zeros([500, 197])\n",
    "err2 = np.zeros([500, 197])\n",
    "xf = X_filt\n",
    "P0 = np.array([[10000, 0], [0, 10000]])\n",
    "P_res = np.zeros([500, 2, 2])\n",
    "xf, P_res[0] = kalman_filt(z, X0, P0, F, Q, R, H)[0:2]\n",
    "for i in range(500):\n",
    "    xf, P_res[i] = kalman_filt(xf[:, 0], X0, P0, F, Q, R, H)[:2]\n",
    "    X_extrapol = extrapol(xf, m, F)\n",
    "    err1[i] = (X[3:, 0] - xf[3:, 0]) ** 2\n",
    "    err2[i] = (X[3:, 0] - X_extrapol[3:, 0]) ** 2\n",
    "final_err11 = np.zeros(500)\n",
    "final_err12 = np.zeros(500)\n",
    "for i in range(500):\n",
    "    final_err11[i] = np.sqrt(np.mean(err1[i]))\n",
    "    final_err12[i] = np.sqrt(np.mean(err2[i]))"
   ]
  },
  {
   "cell_type": "code",
   "execution_count": 16,
   "id": "860b497f",
   "metadata": {
    "scrolled": true
   },
   "outputs": [
    {
     "data": {
      "text/plain": [
       "[<matplotlib.lines.Line2D at 0x7fe3c52efbb0>]"
      ]
     },
     "execution_count": 16,
     "metadata": {},
     "output_type": "execute_result"
    },
    {
     "data": {
      "image/png": "[encoded data removed]",
      "text/plain": [
       "<Figure size 432x288 with 1 Axes>"
      ]
     },
     "metadata": {
      "needs_background": "light"
     },
     "output_type": "display_data"
    }
   ],
   "source": [
    "plt.plot(final_err11)\n",
    "plt.plot(final_err12)"
   ]
  },
  {
   "cell_type": "code",
   "execution_count": 73,
   "id": "2f062aec",
   "metadata": {},
   "outputs": [
    {
     "data": {
      "text/plain": [
       "18.016908476221584"
      ]
     },
     "execution_count": 73,
     "metadata": {},
     "output_type": "execute_result"
    }
   ],
   "source": [
    "np.std(X_filt[:, 0] - z)"
   ]
  },
  {
   "cell_type": "code",
   "execution_count": 74,
   "id": "3b66ff71",
   "metadata": {},
   "outputs": [
    {
     "name": "stderr",
     "output_type": "stream",
     "text": [
      "/var/folders/9y/cbn__xb93h3710lq08dsvk9r0000gn/T/ipykernel_66748/3464141740.py:26: RuntimeWarning: invalid value encountered in reciprocal\n",
      "  K[i] = (P[i].dot(H.reshape(2, 1))).dot((((H.reshape(1,2)).dot(P[i])).dot(H.reshape(2, 1)) + R) ** (-1)).reshape(1, 2)\n"
     ]
    }
   ],
   "source": [
    "err = np.zeros([500, 197])\n",
    "X0 = np.array([2, 0])\n",
    "P0 = np.array([[100, 0], [0, 100]])\n",
    "P_res = np.zeros([500, 2, 2])\n",
    "xf, P_res[0] = kalman_filt(z, X0, P0, F, Q, R, H)[0:2]\n",
    "for i in range(500):\n",
    "    xf, P_res[i] = kalman_filt(xf[:, 0], X0, P0, F, Q, R, H)[:2]\n",
    "    X_extrapol = extrapol(xf, m, F)\n",
    "    err[i] = (xf[3:, 0] - X_extrapol[3:, 0]) ** 2\n",
    "final_err2 = np.zeros(500)\n",
    "for i in range(500):\n",
    "    final_err2[i] = np.sqrt(np.mean(err[i]))"
   ]
  },
  {
   "cell_type": "code",
   "execution_count": 75,
   "id": "1833df78",
   "metadata": {},
   "outputs": [
    {
     "data": {
      "text/plain": [
       "[<matplotlib.lines.Line2D at 0x7fedd184e520>]"
      ]
     },
     "execution_count": 75,
     "metadata": {},
     "output_type": "execute_result"
    },
    {
     "data": {
      "image/png": "[encoded data removed]",
      "text/plain": [
       "<Figure size 432x288 with 1 Axes>"
      ]
     },
     "metadata": {
      "needs_background": "light"
     },
     "output_type": "display_data"
    }
   ],
   "source": [
    "plt.plot(final_err)\n",
    "plt.plot(final_err2)"
   ]
  },
  {
   "cell_type": "code",
   "execution_count": 76,
   "id": "e0707605",
   "metadata": {},
   "outputs": [
    {
     "data": {
      "text/plain": [
       "[<matplotlib.lines.Line2D at 0x7fedd18beee0>]"
      ]
     },
     "execution_count": 76,
     "metadata": {},
     "output_type": "execute_result"
    },
    {
     "data": {
      "image/png": "[encoded data removed]",
      "text/plain": [
       "<Figure size 432x288 with 1 Axes>"
      ]
     },
     "metadata": {
      "needs_background": "light"
     },
     "output_type": "display_data"
    }
   ],
   "source": [
    "plt.plot(final_err)\n",
    "plt.plot(P_res[:, 0, 0])"
   ]
  },
  {
   "cell_type": "code",
   "execution_count": 131,
   "id": "02e09314",
   "metadata": {},
   "outputs": [
    {
     "name": "stderr",
     "output_type": "stream",
     "text": [
      "/var/folders/9y/cbn__xb93h3710lq08dsvk9r0000gn/T/ipykernel_66748/3464141740.py:26: RuntimeWarning: invalid value encountered in reciprocal\n",
      "  K[i] = (P[i].dot(H.reshape(2, 1))).dot((((H.reshape(1,2)).dot(P[i])).dot(H.reshape(2, 1)) + R) ** (-1)).reshape(1, 2)\n"
     ]
    }
   ],
   "source": [
    "err = np.zeros([500, 197])\n",
    "v,a = gnerate_vel_and_ac(0, 0, T, v0, numb)\n",
    "x = generate_x(T, x0, a, v)\n",
    "Q = np.dot(np.dot(G, G.transpose()), 0)\n",
    "P0 = np.array([[0, 0], [0, 0]])\n",
    "X = np.zeros([200, 2])\n",
    "X[0] = np.array([x[0], v[0]])\n",
    "for i in range(1, len(X)):\n",
    "    X[i] = np.dot(F, X[i - 1]) + np.dot(G, a[i - 1])\n",
    "P_res = np.zeros([500, 2, 2])\n",
    "K_res = np.zeros([500, 2])\n",
    "xf, P_res[0], K_res[0] = kalman_filt(x, X[0], P0, F, Q, R, H)\n",
    "for i in range(500):\n",
    "    xf, P_res[i], K_res[i] = kalman_filt(xf[:, 0], X[0], P0, F, Q, R, H)\n",
    "    X_extrapol = extrapol(xf, m, F)\n",
    "    err[i] = (xf[3:, 0] - X_extrapol[3:, 0]) ** 2\n",
    "#     plt.plot(xf[:, 0])\n",
    "#     plt.show()\n",
    "final_err3 = np.zeros(500)\n",
    "for i in range(500):\n",
    "    final_err3[i] = np.sqrt(np.mean(err[i]))"
   ]
  },
  {
   "cell_type": "code",
   "execution_count": 132,
   "id": "5851cebc",
   "metadata": {},
   "outputs": [
    {
     "data": {
      "text/plain": [
       "[<matplotlib.lines.Line2D at 0x7fedb3de6160>]"
      ]
     },
     "execution_count": 132,
     "metadata": {},
     "output_type": "execute_result"
    },
    {
     "data": {
      "image/png": "[encoded data removed]",
      "text/plain": [
       "<Figure size 432x288 with 1 Axes>"
      ]
     },
     "metadata": {
      "needs_background": "light"
     },
     "output_type": "display_data"
    }
   ],
   "source": [
    "plt.plot(X[:,0])\n",
    "plt.plot(xf[:, 0])"
   ]
  },
  {
   "cell_type": "code",
   "execution_count": 133,
   "id": "0d10c2d3",
   "metadata": {},
   "outputs": [
    {
     "data": {
      "text/plain": [
       "[<matplotlib.lines.Line2D at 0x7fedb49b2d30>]"
      ]
     },
     "execution_count": 133,
     "metadata": {},
     "output_type": "execute_result"
    },
    {
     "data": {
      "image/png": "[encoded data removed]",
      "text/plain": [
       "<Figure size 432x288 with 1 Axes>"
      ]
     },
     "metadata": {
      "needs_background": "light"
     },
     "output_type": "display_data"
    }
   ],
   "source": [
    "plt.plot(final_err3)\n",
    "plt.plot(P_res[:, 0, 0] ** 0.5)"
   ]
  },
  {
   "cell_type": "code",
   "execution_count": 134,
   "id": "36455d48",
   "metadata": {},
   "outputs": [
    {
     "data": {
      "text/plain": [
       "[<matplotlib.lines.Line2D at 0x7fedb4b46550>]"
      ]
     },
     "execution_count": 134,
     "metadata": {},
     "output_type": "execute_result"
    },
    {
     "data": {
      "image/png": "[encoded data removed]",
      "text/plain": [
       "<Figure size 432x288 with 1 Axes>"
      ]
     },
     "metadata": {
      "needs_background": "light"
     },
     "output_type": "display_data"
    }
   ],
   "source": [
    "plt.plot(K_res[:, 0])"
   ]
  },
  {
   "cell_type": "code",
   "execution_count": 126,
   "id": "563bd6d3",
   "metadata": {},
   "outputs": [
    {
     "data": {
      "text/plain": [
       "0.0"
      ]
     },
     "execution_count": 126,
     "metadata": {},
     "output_type": "execute_result"
    }
   ],
   "source": [
    "err = np.zeros([500, 197])\n",
    "v,a = gnerate_vel_and_ac(0, simaa_2, T, v0, numb)\n",
    "x = generate_x(T, x0, a, v)\n",
    "Q = np.dot(np.dot(G, G.transpose()), 0)\n",
    "P0 = np.array([[0, 0], [0, 0]])\n",
    "X = np.zeros([200, 2])\n",
    "X[0] = np.array([x[0], v[0]])\n",
    "for i in range(1, len(X)):\n",
    "    X[i] = np.dot(F, X[i - 1]) + np.dot(G, a[i - 1])\n",
    "P_res = np.zeros([500, 2, 2])\n",
    "K_res = np.zeros([500, 2])\n",
    "xf, P_res[0], K_res[0] = kalman_filt(x, X[0], P0, F, Q, R, H)\n",
    "for i in range(500):\n",
    "    xf, P_res[i], K_res[i] = kalman_filt(xf[:, 0], X[0], P0, F, Q, R, H)\n",
    "    X_extrapol = extrapol(xf, m, F)\n",
    "    err[i] = (xf[3:, 0] - X_extrapol[3:, 0]) ** 2\n",
    "#     plt.plot(xf[:, 0])\n",
    "#     plt.show()\n",
    "final_err3 = np.zeros(500)\n",
    "for i in range(500):\n",
    "    final_err3[i] = np.sqrt(np.mean(err[i]))"
   ]
  },
  {
   "cell_type": "code",
   "execution_count": 127,
   "id": "ec45dd0d",
   "metadata": {},
   "outputs": [
    {
     "data": {
      "text/plain": [
       "array([[0.        , 0.        ],\n",
       "       [0.9803922 , 0.49019733],\n",
       "       [0.93633024, 0.84269815],\n",
       "       [0.80819452, 0.46696713],\n",
       "       [0.68723322, 0.28840503],\n",
       "       [0.59239726, 0.19472444],\n",
       "       [0.51883084, 0.14009215],\n",
       "       [0.46085175, 0.10559457],\n",
       "       [0.41426167, 0.08247236],\n",
       "       [0.37614062, 0.06624844],\n",
       "       [0.34445421, 0.05444792],\n",
       "       [0.31776085, 0.04561421],\n",
       "       [0.29501811, 0.03884528],\n",
       "       [0.2754569 , 0.03355848],\n",
       "       [0.25849909, 0.02936391],\n",
       "       [0.24370264, 0.02599261],\n",
       "       [0.23072417, 0.02325414],\n",
       "       [0.21929315, 0.02101054],\n",
       "       [0.20919351, 0.01915979],\n",
       "       [0.20025049, 0.01762505],\n",
       "       [0.19232097, 0.01634746],\n",
       "       [0.18528627, 0.01528124],\n",
       "       [0.17904682, 0.01439027],\n",
       "       [0.17351794, 0.01364566],\n",
       "       [0.16862677, 0.01302397],\n",
       "       [0.16430977, 0.01250602],\n",
       "       [0.16051082, 0.01207588],\n",
       "       [0.15717978, 0.01172021],\n",
       "       [0.15427131, 0.01142774],\n",
       "       [0.15174405, 0.01118885],\n",
       "       [0.14955995, 0.01099528],\n",
       "       [0.14768377, 0.01083994],\n",
       "       [0.14608279, 0.01071666],\n",
       "       [0.14472654, 0.01062013],\n",
       "       [0.14358668, 0.01054573],\n",
       "       [0.14263691, 0.01048947],\n",
       "       [0.14185287, 0.01044792],\n",
       "       [0.1412122 , 0.01041814],\n",
       "       [0.14069445, 0.01039765],\n",
       "       [0.14028107, 0.01038433],\n",
       "       [0.13995541, 0.01037645],\n",
       "       [0.13970264, 0.01037254],\n",
       "       [0.1395097 , 0.01037146],\n",
       "       [0.13936521, 0.01037226],\n",
       "       [0.13925936, 0.01037423],\n",
       "       [0.13918381, 0.0103768 ],\n",
       "       [0.13913156, 0.01037956],\n",
       "       [0.13909683, 0.01038223],\n",
       "       [0.1390749 , 0.01038462],\n",
       "       [0.13906199, 0.01038661],\n",
       "       [0.13905513, 0.01038813],\n",
       "       [0.13905206, 0.01038919],\n",
       "       [0.13905108, 0.0103898 ],\n",
       "       [0.13905097, 0.01038999],\n",
       "       [0.13905089, 0.01038983],\n",
       "       [0.1390503 , 0.01038936],\n",
       "       [0.1390489 , 0.01038866],\n",
       "       [0.13904655, 0.01038777],\n",
       "       [0.13904325, 0.01038677],\n",
       "       [0.13903909, 0.01038568],\n",
       "       [0.13903419, 0.01038457],\n",
       "       [0.13902872, 0.01038346],\n",
       "       [0.13902284, 0.01038238],\n",
       "       [0.13901674, 0.01038135],\n",
       "       [0.13901056, 0.01038038],\n",
       "       [0.13900444, 0.0103795 ],\n",
       "       [0.1389985 , 0.0103787 ],\n",
       "       [0.13899284, 0.01037799],\n",
       "       [0.13898752, 0.01037737],\n",
       "       [0.13898259, 0.01037683],\n",
       "       [0.1389781 , 0.01037636],\n",
       "       [0.13897404, 0.01037597],\n",
       "       [0.13897042, 0.01037565],\n",
       "       [0.13896723, 0.01037538],\n",
       "       [0.13896446, 0.01037516],\n",
       "       [0.13896207, 0.01037499],\n",
       "       [0.13896003, 0.01037485],\n",
       "       [0.13895831, 0.01037475],\n",
       "       [0.13895688, 0.01037468],\n",
       "       [0.13895571, 0.01037462],\n",
       "       [0.13895475, 0.01037458],\n",
       "       [0.13895399, 0.01037456],\n",
       "       [0.13895338, 0.01037454],\n",
       "       [0.13895291, 0.01037454],\n",
       "       [0.13895255, 0.01037453],\n",
       "       [0.13895228, 0.01037453],\n",
       "       [0.13895208, 0.01037454],\n",
       "       [0.13895194, 0.01037454],\n",
       "       [0.13895184, 0.01037455],\n",
       "       [0.13895178, 0.01037455],\n",
       "       [0.13895173, 0.01037456],\n",
       "       [0.13895171, 0.01037456],\n",
       "       [0.1389517 , 0.01037456],\n",
       "       [0.13895169, 0.01037457],\n",
       "       [0.13895169, 0.01037457],\n",
       "       [0.13895169, 0.01037457],\n",
       "       [0.13895169, 0.01037457],\n",
       "       [0.13895169, 0.01037457],\n",
       "       [0.13895168, 0.01037457],\n",
       "       [0.13895168, 0.01037456],\n",
       "       [0.13895167, 0.01037456],\n",
       "       [0.13895167, 0.01037456],\n",
       "       [0.13895166, 0.01037456],\n",
       "       [0.13895165, 0.01037456],\n",
       "       [0.13895164, 0.01037455],\n",
       "       [0.13895163, 0.01037455],\n",
       "       [0.13895161, 0.01037455],\n",
       "       [0.1389516 , 0.01037455],\n",
       "       [0.13895159, 0.01037455],\n",
       "       [0.13895158, 0.01037455],\n",
       "       [0.13895157, 0.01037454],\n",
       "       [0.13895156, 0.01037454],\n",
       "       [0.13895155, 0.01037454],\n",
       "       [0.13895155, 0.01037454],\n",
       "       [0.13895154, 0.01037454],\n",
       "       [0.13895153, 0.01037454],\n",
       "       [0.13895153, 0.01037454],\n",
       "       [0.13895152, 0.01037454],\n",
       "       [0.13895152, 0.01037454],\n",
       "       [0.13895152, 0.01037454],\n",
       "       [0.13895151, 0.01037454],\n",
       "       [0.13895151, 0.01037454],\n",
       "       [0.13895151, 0.01037454],\n",
       "       [0.13895151, 0.01037454],\n",
       "       [0.13895151, 0.01037454],\n",
       "       [0.13895151, 0.01037454],\n",
       "       [0.13895151, 0.01037454],\n",
       "       [0.13895151, 0.01037454],\n",
       "       [0.1389515 , 0.01037454],\n",
       "       [0.1389515 , 0.01037454],\n",
       "       [0.1389515 , 0.01037454],\n",
       "       [0.1389515 , 0.01037454],\n",
       "       [0.1389515 , 0.01037454],\n",
       "       [0.1389515 , 0.01037454],\n",
       "       [0.1389515 , 0.01037454],\n",
       "       [0.1389515 , 0.01037454],\n",
       "       [0.1389515 , 0.01037454],\n",
       "       [0.1389515 , 0.01037454],\n",
       "       [0.1389515 , 0.01037454],\n",
       "       [0.1389515 , 0.01037454],\n",
       "       [0.1389515 , 0.01037454],\n",
       "       [0.1389515 , 0.01037454],\n",
       "       [0.1389515 , 0.01037454],\n",
       "       [0.1389515 , 0.01037454],\n",
       "       [0.1389515 , 0.01037454],\n",
       "       [0.1389515 , 0.01037454],\n",
       "       [0.1389515 , 0.01037454],\n",
       "       [0.1389515 , 0.01037454],\n",
       "       [0.1389515 , 0.01037454],\n",
       "       [0.1389515 , 0.01037454],\n",
       "       [0.1389515 , 0.01037454],\n",
       "       [0.1389515 , 0.01037454],\n",
       "       [0.1389515 , 0.01037454],\n",
       "       [0.1389515 , 0.01037454],\n",
       "       [0.1389515 , 0.01037454],\n",
       "       [0.1389515 , 0.01037454],\n",
       "       [0.1389515 , 0.01037454],\n",
       "       [0.1389515 , 0.01037454],\n",
       "       [0.1389515 , 0.01037454],\n",
       "       [0.1389515 , 0.01037454],\n",
       "       [0.1389515 , 0.01037454],\n",
       "       [0.1389515 , 0.01037454],\n",
       "       [0.1389515 , 0.01037454],\n",
       "       [0.1389515 , 0.01037454],\n",
       "       [0.1389515 , 0.01037454],\n",
       "       [0.1389515 , 0.01037454],\n",
       "       [0.1389515 , 0.01037454],\n",
       "       [0.1389515 , 0.01037454],\n",
       "       [0.1389515 , 0.01037454],\n",
       "       [0.1389515 , 0.01037454],\n",
       "       [0.1389515 , 0.01037454],\n",
       "       [0.1389515 , 0.01037454],\n",
       "       [0.1389515 , 0.01037454],\n",
       "       [0.1389515 , 0.01037454],\n",
       "       [0.1389515 , 0.01037454],\n",
       "       [0.1389515 , 0.01037454],\n",
       "       [0.1389515 , 0.01037454],\n",
       "       [0.1389515 , 0.01037454],\n",
       "       [0.1389515 , 0.01037454],\n",
       "       [0.1389515 , 0.01037454],\n",
       "       [0.1389515 , 0.01037454],\n",
       "       [0.1389515 , 0.01037454],\n",
       "       [0.1389515 , 0.01037454],\n",
       "       [0.1389515 , 0.01037454],\n",
       "       [0.1389515 , 0.01037454],\n",
       "       [0.1389515 , 0.01037454],\n",
       "       [0.1389515 , 0.01037454],\n",
       "       [0.1389515 , 0.01037454],\n",
       "       [0.1389515 , 0.01037454],\n",
       "       [0.1389515 , 0.01037454],\n",
       "       [0.1389515 , 0.01037454],\n",
       "       [0.1389515 , 0.01037454],\n",
       "       [0.1389515 , 0.01037454],\n",
       "       [0.1389515 , 0.01037454],\n",
       "       [0.1389515 , 0.01037454],\n",
       "       [0.1389515 , 0.01037454],\n",
       "       [0.1389515 , 0.01037454],\n",
       "       [0.1389515 , 0.01037454],\n",
       "       [0.1389515 , 0.01037454],\n",
       "       [0.1389515 , 0.01037454]])"
      ]
     },
     "execution_count": 127,
     "metadata": {},
     "output_type": "execute_result"
    }
   ],
   "source": [
    "K"
   ]
  },
  {
   "cell_type": "code",
   "execution_count": null,
   "id": "0fc9e8e9",
   "metadata": {},
   "outputs": [],
   "source": []
  }
 ],
 "metadata": {
  "kernelspec": {
   "display_name": "Python 3 (ipykernel)",
   "language": "python",
   "name": "python3"
  },
  "language_info": {
   "codemirror_mode": {
    "name": "ipython",
    "version": 3
   },
   "file_extension": ".py",
   "mimetype": "text/x-python",
   "name": "python",
   "nbconvert_exporter": "python",
   "pygments_lexer": "ipython3",
   "version": "3.9.12"
  }
 },
 "nbformat": 4,
 "nbformat_minor": 5
}
