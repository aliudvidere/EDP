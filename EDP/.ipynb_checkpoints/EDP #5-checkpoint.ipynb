{
 "cells": [
  {
   "cell_type": "code",
   "execution_count": 1,
   "id": "c39aa8a0",
   "metadata": {},
   "outputs": [],
   "source": [
    "# Assigment 5\n",
    "# \n",
    "\n",
    "# Initialisation of libraries \n",
    "import numpy as np\n",
    "import matplotlib.pyplot as plt"
   ]
  },
  {
   "cell_type": "code",
   "execution_count": 84,
   "id": "8f92936c",
   "metadata": {},
   "outputs": [],
   "source": [
    "def gnerate_vel_and_ac(exp, var, T, V0, numb):\n",
    "    arr = np.zeros(numb)\n",
    "    a = np.random.normal(exp, var ** 0.5, numb)\n",
    "    arr[0] = V0\n",
    "    for i in range(1, len(arr)):\n",
    "        arr[i] = arr[i - 1] + a[i - 1] * T\n",
    "    return arr, a\n",
    "def generate_x(T, X0, a, v):\n",
    "    arr = np.zeros(len(a))\n",
    "    arr[0] = X0\n",
    "    for i in range(1, len(a)):\n",
    "        arr[i] = arr[i - 1] + v[i - 1] * T + a[i - 1] * (T ** 2) / 2\n",
    "    return arr\n",
    "def kalman_filt(z, X0, P0, F, Q, R, H):\n",
    "    \n",
    "    arr = np.zeros([200, 2])\n",
    "    P = np.zeros([200, 2 , 2])\n",
    "    K = np.zeros([200, 2])\n",
    "    arr[0] = X0\n",
    "    P[0] = P0\n",
    "    \n",
    "    for i in range(1, len(X)):\n",
    "        arr[i] = np.dot(F, arr[i - 1].reshape(2, 1)).reshape(1, 2)\n",
    "        P[i] = np.dot(np.dot(F, P[i - 1]), F.transpose()) + Q\n",
    "\n",
    "        K[i] = (P[i].dot(H.reshape(2, 1))).dot((((H.reshape(1,2)).dot(P[i])).dot(H.reshape(2, 1)) + R) ** (-1)).reshape(1, 2)\n",
    "\n",
    "        arr[i] = arr[i] + K[i] * (z[i] - np.dot(H, arr[i]))\n",
    "        P[i] = (np.identity(2) - (K[i].reshape(2,1)).dot(H.reshape(1,2))).dot(P[i])\n",
    "        \n",
    "    return arr, P, K\n",
    "\n",
    "def kalman_filt_x(z, X0, P0, F, Q, R, H):\n",
    "    \n",
    "    arr = np.zeros([200, 2])\n",
    "    P = np.zeros([200, 2 , 2])\n",
    "    K = np.zeros([200, 2])\n",
    "    arr[0] = X0\n",
    "    P[0] = P0\n",
    "    \n",
    "    for i in range(1, len(X)):\n",
    "        arr[i] = np.dot(F, arr[i - 1].reshape(2, 1)).reshape(1, 2)\n",
    "        P[i] = np.dot(np.dot(F, P[i - 1]), F.transpose()) + Q\n",
    "\n",
    "        K[i] = (P[i].dot(H.reshape(2, 1))).dot((((H.reshape(1,2)).dot(P[i])).dot(H.reshape(2, 1)) + R) ** (-1)).reshape(1, 2)\n",
    "\n",
    "        arr[i] = arr[i] + K[i] * (z[i] - np.dot(H, arr[i]))\n",
    "        P[i] = (np.identity(2) - (K[i].reshape(2,1)).dot(H.reshape(1,2))).dot(P[i])\n",
    "        \n",
    "    return arr"
   ]
  },
  {
   "cell_type": "code",
   "execution_count": 46,
   "id": "c215226e",
   "metadata": {},
   "outputs": [],
   "source": [
    "# PART 1\n",
    "x0 = 5\n",
    "v0 = 1\n",
    "T = 1\n",
    "sigmaa_2 = 0.2 ** 2\n",
    "numb = 200\n",
    "v,a = gnerate_vel_and_ac(0, sigmaa_2 ** 0.5, T, v0, numb)\n",
    "x = generate_x(T, x0, a, v)"
   ]
  },
  {
   "cell_type": "code",
   "execution_count": 47,
   "id": "b0a65d6d",
   "metadata": {},
   "outputs": [],
   "source": [
    "sigmaeta_2 = 20 ** 2\n",
    "eta = np.random.normal(0, sigmaeta_2 ** 0.5, 200)\n",
    "z = x + eta"
   ]
  },
  {
   "cell_type": "code",
   "execution_count": 48,
   "id": "fb755f16",
   "metadata": {},
   "outputs": [],
   "source": [
    "F = np.array([[1, T], [0, 1]])\n",
    "G = np.array([T ** 2 / 2, T])\n",
    "H = np.array([1, 0])"
   ]
  },
  {
   "cell_type": "code",
   "execution_count": 49,
   "id": "dee10324",
   "metadata": {},
   "outputs": [],
   "source": [
    "X = np.zeros([200, 2])\n",
    "X[0] = np.array([x[0], v[0]])\n",
    "for i in range(1, len(X)):\n",
    "    X[i] = np.dot(F, X[i - 1]) + np.dot(G, a[i - 1])"
   ]
  },
  {
   "cell_type": "code",
   "execution_count": null,
   "id": "c3862da6",
   "metadata": {},
   "outputs": [],
   "source": []
  },
  {
   "cell_type": "code",
   "execution_count": 50,
   "id": "f9118fa9",
   "metadata": {},
   "outputs": [],
   "source": [
    "for i in range(len(x)):\n",
    "    z[i] = np.dot(H, X[i]) + eta[i]"
   ]
  },
  {
   "cell_type": "code",
   "execution_count": 74,
   "id": "69627c23",
   "metadata": {},
   "outputs": [
    {
     "name": "stderr",
     "output_type": "stream",
     "text": [
      "/var/folders/9y/cbn__xb93h3710lq08dsvk9r0000gn/T/ipykernel_7992/1982586326.py:26: RuntimeWarning: invalid value encountered in reciprocal\n",
      "  K[i] = (P[i].dot(H.reshape(2, 1))).dot((((H.reshape(1,2)).dot(P[i])).dot(H.reshape(2, 1)) + R) ** (-1)).reshape(1, 2)\n"
     ]
    }
   ],
   "source": [
    "# X_pred = np.zeros([200, 2])\n",
    "# X_pred[0] = np.array([2, 0])\n",
    "# P_pred = np.zeros([200, 2, 2])\n",
    "Q = np.dot(np.dot(G, G.transpose()), sigmaa_2)\n",
    "R = sigmaeta_2\n",
    "X0 = np.array([2, 0])\n",
    "P0 = np.array([[10000, 0], [0, 10000]])\n",
    "\n",
    "X_filt, P, K = kalman_filt(z, X0, P0, F, Q, R, H)\n",
    "# X_filt = np.zeros([200, 2])\n",
    "# P = np.zeros([200, 2 , 2])\n",
    "# K = np.zeros([200, 2])\n",
    "\n",
    "# X_filt[0] = np.array([2, 0])\n",
    "\n",
    "\n",
    "# P[0] = np.array([[10000, 0], [0, 10000]])\n",
    "\n",
    "# for i in range(1, len(X)):\n",
    "#     X_filt[i] = np.dot(F, X_filt[i - 1].reshape(2, 1)).reshape(1, 2)\n",
    "#     P[i] = np.dot(np.dot(F, P[i - 1]), F.transpose()) + Q\n",
    "    \n",
    "#     K[i] = (P[i].dot(H.reshape(2, 1))).dot((((H.reshape(1,2)).dot(P[i])).dot(H.reshape(2, 1)) + R) ** (-1)).reshape(1, 2)\n",
    "    \n",
    "#     X_filt[i] = X_filt[i] + K[i] * (z[i] - np.dot(H, X_filt[i]))\n",
    "#     P[i] = (np.identity(2) - (K[i].reshape(2,1)).dot(H.reshape(1,2))).dot(P[i])\n"
   ]
  },
  {
   "cell_type": "code",
   "execution_count": 75,
   "id": "9b466549",
   "metadata": {},
   "outputs": [
    {
     "data": {
      "text/plain": [
       "[<matplotlib.lines.Line2D at 0x7ff0dafec340>]"
      ]
     },
     "execution_count": 75,
     "metadata": {},
     "output_type": "execute_result"
    },
    {
     "data": {
      "image/png": "[encoded data removed]",
      "text/plain": [
       "<Figure size 432x288 with 1 Axes>"
      ]
     },
     "metadata": {
      "needs_background": "light"
     },
     "output_type": "display_data"
    }
   ],
   "source": [
    "plt.plot(X[:,0])\n",
    "plt.plot(z)\n",
    "plt.plot(X_filt[:,0])"
   ]
  },
  {
   "cell_type": "code",
   "execution_count": 85,
   "id": "2f67e6df",
   "metadata": {},
   "outputs": [
    {
     "name": "stderr",
     "output_type": "stream",
     "text": [
      "/var/folders/9y/cbn__xb93h3710lq08dsvk9r0000gn/T/ipykernel_7992/4209646215.py:26: RuntimeWarning: invalid value encountered in reciprocal\n",
      "  K[i] = (P[i].dot(H.reshape(2, 1))).dot((((H.reshape(1,2)).dot(P[i])).dot(H.reshape(2, 1)) + R) ** (-1)).reshape(1, 2)\n",
      "/Users/vladimirberman/opt/anaconda3/lib/python3.9/site-packages/numpy/core/shape_base.py:65: VisibleDeprecationWarning: Creating an ndarray from ragged nested sequences (which is a list-or-tuple of lists-or-tuples-or ndarrays with different lengths or shapes) is deprecated. If you meant to do this, you must specify 'dtype=object' when creating the ndarray.\n",
      "  ary = asanyarray(ary)\n"
     ]
    },
    {
     "ename": "ValueError",
     "evalue": "Input could not be cast to an at-least-1D NumPy array",
     "output_type": "error",
     "traceback": [
      "\u001b[0;31m---------------------------------------------------------------------------\u001b[0m",
      "\u001b[0;31mValueError\u001b[0m                                Traceback (most recent call last)",
      "Input \u001b[0;32mIn [85]\u001b[0m, in \u001b[0;36m<cell line: 2>\u001b[0;34m()\u001b[0m\n\u001b[1;32m      1\u001b[0m plt\u001b[38;5;241m.\u001b[39mplot(X_filt)\n\u001b[0;32m----> 2\u001b[0m \u001b[43mplt\u001b[49m\u001b[38;5;241;43m.\u001b[39;49m\u001b[43mplot\u001b[49m\u001b[43m(\u001b[49m\u001b[43mkalman_filt\u001b[49m\u001b[43m(\u001b[49m\u001b[43mX_filt\u001b[49m\u001b[43m,\u001b[49m\u001b[43m \u001b[49m\u001b[43mX0\u001b[49m\u001b[43m,\u001b[49m\u001b[43m \u001b[49m\u001b[43mP0\u001b[49m\u001b[43m,\u001b[49m\u001b[43m \u001b[49m\u001b[43mF\u001b[49m\u001b[43m,\u001b[49m\u001b[43m \u001b[49m\u001b[43mQ\u001b[49m\u001b[43m,\u001b[49m\u001b[43m \u001b[49m\u001b[43mR\u001b[49m\u001b[43m,\u001b[49m\u001b[43m \u001b[49m\u001b[43mH\u001b[49m\u001b[43m)\u001b[49m\u001b[43m)\u001b[49m\n\u001b[1;32m      3\u001b[0m plt\u001b[38;5;241m.\u001b[39mplot(kalman_filt(kalman_filt(X_filt, X0, P0, F, Q, R, H), X0, P0, F, Q, R, H))\n\u001b[1;32m      4\u001b[0m plt\u001b[38;5;241m.\u001b[39mplot(kalman_filt(kalman_filt(kalman_filt(X_filt, X0, P0, F, Q, R, H), X0, P0, F, Q, R, H), X0, P0, F, Q, R, H))\n",
      "File \u001b[0;32m~/opt/anaconda3/lib/python3.9/site-packages/matplotlib/pyplot.py:2757\u001b[0m, in \u001b[0;36mplot\u001b[0;34m(scalex, scaley, data, *args, **kwargs)\u001b[0m\n\u001b[1;32m   2755\u001b[0m \u001b[38;5;129m@_copy_docstring_and_deprecators\u001b[39m(Axes\u001b[38;5;241m.\u001b[39mplot)\n\u001b[1;32m   2756\u001b[0m \u001b[38;5;28;01mdef\u001b[39;00m \u001b[38;5;21mplot\u001b[39m(\u001b[38;5;241m*\u001b[39margs, scalex\u001b[38;5;241m=\u001b[39m\u001b[38;5;28;01mTrue\u001b[39;00m, scaley\u001b[38;5;241m=\u001b[39m\u001b[38;5;28;01mTrue\u001b[39;00m, data\u001b[38;5;241m=\u001b[39m\u001b[38;5;28;01mNone\u001b[39;00m, \u001b[38;5;241m*\u001b[39m\u001b[38;5;241m*\u001b[39mkwargs):\n\u001b[0;32m-> 2757\u001b[0m     \u001b[38;5;28;01mreturn\u001b[39;00m \u001b[43mgca\u001b[49m\u001b[43m(\u001b[49m\u001b[43m)\u001b[49m\u001b[38;5;241;43m.\u001b[39;49m\u001b[43mplot\u001b[49m\u001b[43m(\u001b[49m\n\u001b[1;32m   2758\u001b[0m \u001b[43m        \u001b[49m\u001b[38;5;241;43m*\u001b[39;49m\u001b[43margs\u001b[49m\u001b[43m,\u001b[49m\u001b[43m \u001b[49m\u001b[43mscalex\u001b[49m\u001b[38;5;241;43m=\u001b[39;49m\u001b[43mscalex\u001b[49m\u001b[43m,\u001b[49m\u001b[43m \u001b[49m\u001b[43mscaley\u001b[49m\u001b[38;5;241;43m=\u001b[39;49m\u001b[43mscaley\u001b[49m\u001b[43m,\u001b[49m\n\u001b[1;32m   2759\u001b[0m \u001b[43m        \u001b[49m\u001b[38;5;241;43m*\u001b[39;49m\u001b[38;5;241;43m*\u001b[39;49m\u001b[43m(\u001b[49m\u001b[43m{\u001b[49m\u001b[38;5;124;43m\"\u001b[39;49m\u001b[38;5;124;43mdata\u001b[39;49m\u001b[38;5;124;43m\"\u001b[39;49m\u001b[43m:\u001b[49m\u001b[43m \u001b[49m\u001b[43mdata\u001b[49m\u001b[43m}\u001b[49m\u001b[43m \u001b[49m\u001b[38;5;28;43;01mif\u001b[39;49;00m\u001b[43m \u001b[49m\u001b[43mdata\u001b[49m\u001b[43m \u001b[49m\u001b[38;5;129;43;01mis\u001b[39;49;00m\u001b[43m \u001b[49m\u001b[38;5;129;43;01mnot\u001b[39;49;00m\u001b[43m \u001b[49m\u001b[38;5;28;43;01mNone\u001b[39;49;00m\u001b[43m \u001b[49m\u001b[38;5;28;43;01melse\u001b[39;49;00m\u001b[43m \u001b[49m\u001b[43m{\u001b[49m\u001b[43m}\u001b[49m\u001b[43m)\u001b[49m\u001b[43m,\u001b[49m\u001b[43m \u001b[49m\u001b[38;5;241;43m*\u001b[39;49m\u001b[38;5;241;43m*\u001b[39;49m\u001b[43mkwargs\u001b[49m\u001b[43m)\u001b[49m\n",
      "File \u001b[0;32m~/opt/anaconda3/lib/python3.9/site-packages/matplotlib/axes/_axes.py:1632\u001b[0m, in \u001b[0;36mAxes.plot\u001b[0;34m(self, scalex, scaley, data, *args, **kwargs)\u001b[0m\n\u001b[1;32m   1390\u001b[0m \u001b[38;5;124;03m\"\"\"\u001b[39;00m\n\u001b[1;32m   1391\u001b[0m \u001b[38;5;124;03mPlot y versus x as lines and/or markers.\u001b[39;00m\n\u001b[1;32m   1392\u001b[0m \n\u001b[0;32m   (...)\u001b[0m\n\u001b[1;32m   1629\u001b[0m \u001b[38;5;124;03m(``'green'``) or hex strings (``'#008000'``).\u001b[39;00m\n\u001b[1;32m   1630\u001b[0m \u001b[38;5;124;03m\"\"\"\u001b[39;00m\n\u001b[1;32m   1631\u001b[0m kwargs \u001b[38;5;241m=\u001b[39m cbook\u001b[38;5;241m.\u001b[39mnormalize_kwargs(kwargs, mlines\u001b[38;5;241m.\u001b[39mLine2D)\n\u001b[0;32m-> 1632\u001b[0m lines \u001b[38;5;241m=\u001b[39m [\u001b[38;5;241m*\u001b[39m\u001b[38;5;28mself\u001b[39m\u001b[38;5;241m.\u001b[39m_get_lines(\u001b[38;5;241m*\u001b[39margs, data\u001b[38;5;241m=\u001b[39mdata, \u001b[38;5;241m*\u001b[39m\u001b[38;5;241m*\u001b[39mkwargs)]\n\u001b[1;32m   1633\u001b[0m \u001b[38;5;28;01mfor\u001b[39;00m line \u001b[38;5;129;01min\u001b[39;00m lines:\n\u001b[1;32m   1634\u001b[0m     \u001b[38;5;28mself\u001b[39m\u001b[38;5;241m.\u001b[39madd_line(line)\n",
      "File \u001b[0;32m~/opt/anaconda3/lib/python3.9/site-packages/matplotlib/axes/_base.py:312\u001b[0m, in \u001b[0;36m_process_plot_var_args.__call__\u001b[0;34m(self, data, *args, **kwargs)\u001b[0m\n\u001b[1;32m    310\u001b[0m     this \u001b[38;5;241m+\u001b[39m\u001b[38;5;241m=\u001b[39m args[\u001b[38;5;241m0\u001b[39m],\n\u001b[1;32m    311\u001b[0m     args \u001b[38;5;241m=\u001b[39m args[\u001b[38;5;241m1\u001b[39m:]\n\u001b[0;32m--> 312\u001b[0m \u001b[38;5;28;01myield from\u001b[39;00m \u001b[38;5;28;43mself\u001b[39;49m\u001b[38;5;241;43m.\u001b[39;49m\u001b[43m_plot_args\u001b[49m\u001b[43m(\u001b[49m\u001b[43mthis\u001b[49m\u001b[43m,\u001b[49m\u001b[43m \u001b[49m\u001b[43mkwargs\u001b[49m\u001b[43m)\u001b[49m\n",
      "File \u001b[0;32m~/opt/anaconda3/lib/python3.9/site-packages/matplotlib/axes/_base.py:490\u001b[0m, in \u001b[0;36m_process_plot_var_args._plot_args\u001b[0;34m(self, tup, kwargs, return_kwargs)\u001b[0m\n\u001b[1;32m    488\u001b[0m     y \u001b[38;5;241m=\u001b[39m _check_1d(xy[\u001b[38;5;241m1\u001b[39m])\n\u001b[1;32m    489\u001b[0m \u001b[38;5;28;01melse\u001b[39;00m:\n\u001b[0;32m--> 490\u001b[0m     x, y \u001b[38;5;241m=\u001b[39m \u001b[43mindex_of\u001b[49m\u001b[43m(\u001b[49m\u001b[43mxy\u001b[49m\u001b[43m[\u001b[49m\u001b[38;5;241;43m-\u001b[39;49m\u001b[38;5;241;43m1\u001b[39;49m\u001b[43m]\u001b[49m\u001b[43m)\u001b[49m\n\u001b[1;32m    492\u001b[0m \u001b[38;5;28;01mif\u001b[39;00m \u001b[38;5;28mself\u001b[39m\u001b[38;5;241m.\u001b[39maxes\u001b[38;5;241m.\u001b[39mxaxis \u001b[38;5;129;01mis\u001b[39;00m \u001b[38;5;129;01mnot\u001b[39;00m \u001b[38;5;28;01mNone\u001b[39;00m:\n\u001b[1;32m    493\u001b[0m     \u001b[38;5;28mself\u001b[39m\u001b[38;5;241m.\u001b[39maxes\u001b[38;5;241m.\u001b[39mxaxis\u001b[38;5;241m.\u001b[39mupdate_units(x)\n",
      "File \u001b[0;32m~/opt/anaconda3/lib/python3.9/site-packages/matplotlib/cbook/__init__.py:1658\u001b[0m, in \u001b[0;36mindex_of\u001b[0;34m(y)\u001b[0m\n\u001b[1;32m   1656\u001b[0m \u001b[38;5;28;01melse\u001b[39;00m:\n\u001b[1;32m   1657\u001b[0m     \u001b[38;5;28;01mreturn\u001b[39;00m np\u001b[38;5;241m.\u001b[39marange(y\u001b[38;5;241m.\u001b[39mshape[\u001b[38;5;241m0\u001b[39m], dtype\u001b[38;5;241m=\u001b[39m\u001b[38;5;28mfloat\u001b[39m), y\n\u001b[0;32m-> 1658\u001b[0m \u001b[38;5;28;01mraise\u001b[39;00m \u001b[38;5;167;01mValueError\u001b[39;00m(\u001b[38;5;124m'\u001b[39m\u001b[38;5;124mInput could not be cast to an at-least-1D NumPy array\u001b[39m\u001b[38;5;124m'\u001b[39m)\n",
      "\u001b[0;31mValueError\u001b[0m: Input could not be cast to an at-least-1D NumPy array"
     ]
    },
    {
     "data": {
      "image/png": "[encoded data removed]",
      "text/plain": [
       "<Figure size 432x288 with 1 Axes>"
      ]
     },
     "metadata": {
      "needs_background": "light"
     },
     "output_type": "display_data"
    }
   ],
   "source": [
    "plt.plot(X_filt)\n",
    "plt.plot(kalman_filt_x(X_filt, X0, P0, F, Q, R, H))\n",
    "plt.plot(kalman_filt_x(kalman_filt_x(X_filt, X0, P0, F, Q, R, H), X0, P0, F, Q, R, H))\n",
    "plt.plot(kalman_filt_x(kalman_filt_x(kalman_filt_x(X_filt, X0, P0, F, Q, R, H), X0, P0, F, Q, R, H), X0, P0, F, Q, R, H))"
   ]
  },
  {
   "cell_type": "code",
   "execution_count": 80,
   "id": "433ad1de",
   "metadata": {},
   "outputs": [
    {
     "data": {
      "text/plain": [
       "0.13895150388783034"
      ]
     },
     "execution_count": 80,
     "metadata": {},
     "output_type": "execute_result"
    },
    {
     "data": {
      "image/png": "[encoded data removed]",
      "text/plain": [
       "<Figure size 432x288 with 1 Axes>"
      ]
     },
     "metadata": {
      "needs_background": "light"
     },
     "output_type": "display_data"
    }
   ],
   "source": [
    "plt.plot(K[1:, 0])\n",
    "min(K[1:, 0])"
   ]
  },
  {
   "cell_type": "code",
   "execution_count": 83,
   "id": "24411356",
   "metadata": {},
   "outputs": [
    {
     "data": {
      "text/plain": [
       "55.580601555132134"
      ]
     },
     "execution_count": 83,
     "metadata": {},
     "output_type": "execute_result"
    },
    {
     "data": {
      "image/png": "[encoded data removed]",
      "text/plain": [
       "<Figure size 432x288 with 1 Axes>"
      ]
     },
     "metadata": {
      "needs_background": "light"
     },
     "output_type": "display_data"
    }
   ],
   "source": [
    "plt.plot(P[:,0,0])\n",
    "min(P[:,0,0])"
   ]
  },
  {
   "cell_type": "code",
   "execution_count": null,
   "id": "7ba5837e",
   "metadata": {},
   "outputs": [],
   "source": []
  }
 ],
 "metadata": {
  "kernelspec": {
   "display_name": "Python 3 (ipykernel)",
   "language": "python",
   "name": "python3"
  },
  "language_info": {
   "codemirror_mode": {
    "name": "ipython",
    "version": 3
   },
   "file_extension": ".py",
   "mimetype": "text/x-python",
   "name": "python",
   "nbconvert_exporter": "python",
   "pygments_lexer": "ipython3",
   "version": "3.9.12"
  }
 },
 "nbformat": 4,
 "nbformat_minor": 5
}
