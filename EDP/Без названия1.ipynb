{
 "cells": [
  {
   "cell_type": "code",
   "execution_count": 3,
   "id": "711e5c68",
   "metadata": {},
   "outputs": [
    {
     "name": "stdout",
     "output_type": "stream",
     "text": [
      "[[ 1.          0.02        0.          0.        ]\n",
      " [ 0.          1.         -0.01800165  0.        ]\n",
      " [ 0.          0.          1.          0.02      ]\n",
      " [ 0.          0.          0.41688634  1.        ]] [[ 0.        ]\n",
      " [ 0.04387699]\n",
      " [ 0.        ]\n",
      " [-0.08547465]]\n",
      "[[34.35661658 24.71339086 89.5450231  18.7847591 ]]\n",
      "double c[] = {34.356617, 24.713391, 89.545023, 18.784759};\n"
     ]
    },
    {
     "name": "stderr",
     "output_type": "stream",
     "text": [
      "/Users/vladimirberman/opt/anaconda3/lib/python3.9/site-packages/scipy/linalg/_solvers.py:683: RuntimeWarning: invalid value encountered in reciprocal\n",
      "  elwisescale = sca[:, None] * np.reciprocal(sca)\n"
     ]
    },
    {
     "data": {
      "image/png": "[encoded data removed]",
      "text/plain": [
       "<Figure size 432x288 with 1 Axes>"
      ]
     },
     "metadata": {
      "needs_background": "light"
     },
     "output_type": "display_data"
    }
   ],
   "source": [
    "#!/usr/bin/python\n",
    "\n",
    "import numpy as np\n",
    "import scipy.linalg\n",
    "import matplotlib.pyplot as plt\n",
    "\n",
    "def dlqr(A,B,Q,R):\n",
    "    \"\"\"\n",
    "    Solve the discrete time lqr controller.\n",
    "    x[k+1] = A x[k] + B u[k]\n",
    "    cost = sum x[k].T*Q*x[k] + u[k].T*R*u[k]\n",
    "    \"\"\"\n",
    "    # first, solve the ricatti equation\n",
    "    P = np.matrix(scipy.linalg.solve_discrete_are(A, B, Q, R))\n",
    "    # compute the LQR gain\n",
    "    K = np.matrix(scipy.linalg.inv(B.T*P*B+R)*(B.T*P*A))\n",
    "    return -K\n",
    "\n",
    "l = .22 # rod length is 2l\n",
    "m = (2*l)*(.006**2)*(3.14/4)*7856 # rod 6 mm diameter, 44cm length, 7856 kg/m^3\n",
    "M = .4\n",
    "dt = .02 # 20 ms\n",
    "g = 9.8\n",
    "\n",
    "A = np.matrix([[1, dt, 0, 0],[0,1, -(3*m*g*dt)/(7*M+4*m),0],[0,0,1,dt],[0,0,(3*g*(m+M)*dt)/(l*(7*M+4*m)),1]])\n",
    "B = np.matrix([[0],[7*dt/(7*M+4*m)],[0],[-3*dt/(l*(7*M+4*m))]])\n",
    "\n",
    "\n",
    "print (A,B)\n",
    "\n",
    "Q = np.matrix(\"1 0 0 0; 0 .0001 0 0 ; 0 0 1 0; 0 0 0 .0001\")\n",
    "R = np.matrix(\".0005\")\n",
    "\n",
    "\n",
    "K = dlqr(A,B,Q,R)\n",
    "print (K)\n",
    "print (\"double c[] = {%f, %f, %f, %f};\" % (K[0,0], K[0,1], K[0,2], K[0,3])\n",
    ")\n",
    "nsteps = 250\n",
    "time = np.linspace(0, 2, nsteps, endpoint=True)\n",
    "xk = np.matrix(\".2 ; 0 ; .2 ; 0\")\n",
    "\n",
    "X = []\n",
    "T = []\n",
    "U = []\n",
    "\n",
    "for t in time:\n",
    "    uk = K*xk\n",
    "    X.append(xk[0,0])\n",
    "    T.append(xk[2,0])\n",
    "    v = xk[1,0]\n",
    "    force = uk[0,0]\n",
    "    accel = force/(M+m)\n",
    "    u = ((1-.404)*v + dt*accel)/.055/10\n",
    "    U.append(u)\n",
    "    xk = A*xk + B*uk\n",
    "\n",
    "plt.plot(time, X, label=\"cart position, meters\")\n",
    "plt.plot(time, T, label='pendulum angle, radians')\n",
    "plt.plot(time, U, label='control voltage, decavolts')\n",
    "\n",
    "plt.legend(loc='upper right')\n",
    "plt.grid()\n",
    "plt.show()"
   ]
  },
  {
   "cell_type": "code",
   "execution_count": 4,
   "id": "9dd71fb6",
   "metadata": {},
   "outputs": [
    {
     "data": {
      "text/plain": [
       "matrix([[34.35661658, 24.71339086, 89.5450231 , 18.7847591 ]])"
      ]
     },
     "execution_count": 4,
     "metadata": {},
     "output_type": "execute_result"
    }
   ],
   "source": [
    "K"
   ]
  },
  {
   "cell_type": "code",
   "execution_count": 5,
   "id": "09562b55",
   "metadata": {},
   "outputs": [
    {
     "data": {
      "text/plain": [
       "matrix([[1.e+00, 0.e+00, 0.e+00, 0.e+00],\n",
       "        [0.e+00, 1.e-04, 0.e+00, 0.e+00],\n",
       "        [0.e+00, 0.e+00, 1.e+00, 0.e+00],\n",
       "        [0.e+00, 0.e+00, 0.e+00, 1.e-04]])"
      ]
     },
     "execution_count": 5,
     "metadata": {},
     "output_type": "execute_result"
    }
   ],
   "source": []
  },
  {
   "cell_type": "code",
   "execution_count": null,
   "id": "882d2179",
   "metadata": {},
   "outputs": [],
   "source": []
  }
 ],
 "metadata": {
  "kernelspec": {
   "display_name": "Python 3 (ipykernel)",
   "language": "python",
   "name": "python3"
  },
  "language_info": {
   "codemirror_mode": {
    "name": "ipython",
    "version": 3
   },
   "file_extension": ".py",
   "mimetype": "text/x-python",
   "name": "python",
   "nbconvert_exporter": "python",
   "pygments_lexer": "ipython3",
   "version": "3.9.12"
  }
 },
 "nbformat": 4,
 "nbformat_minor": 5
}
